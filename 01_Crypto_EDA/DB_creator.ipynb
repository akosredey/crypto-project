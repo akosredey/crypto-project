{
 "cells": [
  {
   "cell_type": "markdown",
   "id": "qualified-jacket",
   "metadata": {},
   "source": [
    "# Database Creation"
   ]
  },
  {
   "cell_type": "markdown",
   "id": "extraordinary-restoration",
   "metadata": {},
   "source": [
    "### Create DB and load data"
   ]
  },
  {
   "cell_type": "code",
   "execution_count": 1,
   "id": "attractive-white",
   "metadata": {},
   "outputs": [],
   "source": [
    "import sqlalchemy as db\n",
    "import pandas as pd"
   ]
  },
  {
   "cell_type": "code",
   "execution_count": 2,
   "id": "thorough-induction",
   "metadata": {
    "collapsed": true,
    "jupyter": {
     "outputs_hidden": true
    },
    "pycharm": {
     "is_executing": true
    },
    "tags": []
   },
   "outputs": [
    {
     "name": "stdout",
     "output_type": "stream",
     "text": [
      "2021-04-23 10:39:36,939 INFO sqlalchemy.engine.Engine DROP TABLE IF EXISTS BTC_Data;\n",
      "2021-04-23 10:39:36,941 INFO sqlalchemy.engine.Engine [raw sql] ()\n",
      "2021-04-23 10:39:36,942 INFO sqlalchemy.engine.Engine COMMIT\n",
      "2021-04-23 10:39:36,943 INFO sqlalchemy.engine.Engine DROP TABLE IF EXISTS Altcoin_Data;\n",
      "2021-04-23 10:39:36,944 INFO sqlalchemy.engine.Engine [raw sql] ()\n",
      "2021-04-23 10:39:36,945 INFO sqlalchemy.engine.Engine COMMIT\n",
      "2021-04-23 10:39:36,946 INFO sqlalchemy.engine.Engine DROP TABLE IF EXISTS Fin_Assets_Data;\n",
      "2021-04-23 10:39:36,947 INFO sqlalchemy.engine.Engine [raw sql] ()\n",
      "2021-04-23 10:39:36,948 INFO sqlalchemy.engine.Engine COMMIT\n",
      "2021-04-23 10:39:36,948 INFO sqlalchemy.engine.Engine DROP TABLE IF EXISTS Transaction_Data;\n",
      "2021-04-23 10:39:36,949 INFO sqlalchemy.engine.Engine [raw sql] ()\n",
      "2021-04-23 10:39:36,951 INFO sqlalchemy.engine.Engine COMMIT\n",
      "2021-04-23 10:39:36,953 INFO sqlalchemy.engine.Engine DROP TABLE IF EXISTS Markets;\n",
      "2021-04-23 10:39:36,953 INFO sqlalchemy.engine.Engine [raw sql] ()\n",
      "2021-04-23 10:39:36,955 INFO sqlalchemy.engine.Engine COMMIT\n",
      "2021-04-23 10:39:36,955 INFO sqlalchemy.engine.Engine DROP TABLE IF EXISTS Exchanges;\n",
      "2021-04-23 10:39:36,956 INFO sqlalchemy.engine.Engine [raw sql] ()\n",
      "2021-04-23 10:39:36,957 INFO sqlalchemy.engine.Engine COMMIT\n",
      "2021-04-23 10:39:36,957 INFO sqlalchemy.engine.Engine DROP TABLE IF EXISTS Sentiments_Data;\n",
      "2021-04-23 10:39:36,958 INFO sqlalchemy.engine.Engine [raw sql] ()\n",
      "2021-04-23 10:39:36,959 INFO sqlalchemy.engine.Engine COMMIT\n",
      "2021-04-23 10:39:36,960 INFO sqlalchemy.engine.Engine DROP TABLE IF EXISTS Emissions_Data;\n",
      "2021-04-23 10:39:36,960 INFO sqlalchemy.engine.Engine [raw sql] ()\n",
      "2021-04-23 10:39:36,962 INFO sqlalchemy.engine.Engine COMMIT\n",
      "2021-04-23 10:39:36,962 INFO sqlalchemy.engine.Engine DROP TABLE IF EXISTS Date_Table;\n",
      "2021-04-23 10:39:36,963 INFO sqlalchemy.engine.Engine [raw sql] ()\n",
      "2021-04-23 10:39:36,964 INFO sqlalchemy.engine.Engine COMMIT\n"
     ]
    }
   ],
   "source": [
    "engine = db.create_engine('sqlite:///crypto.db', echo=True)\n",
    "meta = db.MetaData(engine)\n",
    "\n",
    "with engine.connect() as con:\n",
    "    con.execute('DROP TABLE IF EXISTS BTC_Data;')\n",
    "    con.execute('DROP TABLE IF EXISTS Altcoin_Data;')\n",
    "    con.execute('DROP TABLE IF EXISTS Fin_Assets_Data;')\n",
    "    con.execute('DROP TABLE IF EXISTS Transaction_Data;')\n",
    "    con.execute('DROP TABLE IF EXISTS Markets;')\n",
    "    con.execute('DROP TABLE IF EXISTS Exchanges;')\n",
    "    con.execute('DROP TABLE IF EXISTS Sentiments_Data;')\n",
    "    con.execute('DROP TABLE IF EXISTS Emissions_Data;')\n",
    "    con.execute('DROP TABLE IF EXISTS Date_Table;')\n",
    "    con.close()\n",
    "        "
   ]
  },
  {
   "cell_type": "code",
   "execution_count": 3,
   "id": "velvet-leather",
   "metadata": {
    "collapsed": true,
    "jupyter": {
     "outputs_hidden": true
    },
    "pycharm": {
     "is_executing": true
    },
    "tags": []
   },
   "outputs": [
    {
     "name": "stdout",
     "output_type": "stream",
     "text": [
      "2021-04-23 10:39:36,978 INFO sqlalchemy.engine.Engine \n",
      "        CREATE TABLE IF NOT EXISTS BTC_Data\n",
      "              (\n",
      "                ID INT PRIMARY KEY,\n",
      "                Open REAL NULL DEFAULT 0,\n",
      "                High REAL NULL DEFAULT 0,\n",
      "                Low REAL NULL DEFAULT 0,\n",
      "                Close REAL NULL DEFAULT 0,\n",
      "                WeightedPrice REAL NULL DEFAULT 0,\n",
      "                Volume_USD REAL NULL DEFAULT 0,\n",
      "                Volume_BTC REAL NULL DEFAULT 0,\n",
      "                MarketID INT NOT NULL,\n",
      "                ExchangeID INT NOT NULL,\n",
      "                Date DATE NOT NULL,\n",
      "                FOREIGN KEY(MarketID) REFERENCES Markets(MarketID) ON DELETE CASCADE,\n",
      "                FOREIGN KEY(ExchangeID) REFERENCES Exchanges(ExchangeID) ON DELETE CASCADE,\n",
      "                FOREIGN KEY(Date) REFERENCES Date_Table(Date) ON DELETE CASCADE\n",
      "                          \n",
      "              );\n",
      "2021-04-23 10:39:36,978 INFO sqlalchemy.engine.Engine [raw sql] ()\n",
      "2021-04-23 10:39:36,992 INFO sqlalchemy.engine.Engine COMMIT\n"
     ]
    }
   ],
   "source": [
    "engine = db.create_engine('sqlite:///crypto.db', echo=True)\n",
    "meta = db.MetaData(engine)\n",
    "\n",
    "with engine.connect() as con:\n",
    "    con.execute('''\n",
    "        CREATE TABLE IF NOT EXISTS BTC_Data\n",
    "              (\n",
    "                ID INT PRIMARY KEY,\n",
    "                Open REAL NULL DEFAULT 0,\n",
    "                High REAL NULL DEFAULT 0,\n",
    "                Low REAL NULL DEFAULT 0,\n",
    "                Close REAL NULL DEFAULT 0,\n",
    "                WeightedPrice REAL NULL DEFAULT 0,\n",
    "                Volume_USD REAL NULL DEFAULT 0,\n",
    "                Volume_BTC REAL NULL DEFAULT 0,\n",
    "                MarketID INT NOT NULL,\n",
    "                ExchangeID INT NOT NULL,\n",
    "                Date DATE NOT NULL,\n",
    "                FOREIGN KEY(MarketID) REFERENCES Markets(MarketID) ON DELETE CASCADE,\n",
    "                FOREIGN KEY(ExchangeID) REFERENCES Exchanges(ExchangeID) ON DELETE CASCADE,\n",
    "                FOREIGN KEY(Date) REFERENCES Date_Table(Date) ON DELETE CASCADE\n",
    "                          \n",
    "              );''')\n"
   ]
  },
  {
   "cell_type": "code",
   "execution_count": 4,
   "id": "numerous-working",
   "metadata": {
    "collapsed": true,
    "jupyter": {
     "outputs_hidden": true
    },
    "pycharm": {
     "is_executing": true
    },
    "tags": []
   },
   "outputs": [
    {
     "name": "stdout",
     "output_type": "stream",
     "text": [
      "2021-04-23 10:39:37,014 INFO sqlalchemy.engine.Engine \n",
      "        CREATE TABLE IF NOT EXISTS Altcoin_Data\n",
      "              (\n",
      "                ID INT PRIMARY KEY,\n",
      "                Open REAL NULL DEFAULT 0,\n",
      "                High REAL NULL DEFAULT 0,\n",
      "                Low REAL NULL DEFAULT 0,\n",
      "                Close REAL NULL DEFAULT 0,\n",
      "                WeightedPrice REAL NULL DEFAULT 0,\n",
      "                Volume_Market REAL NULL DEFAULT 0,\n",
      "                Volume_BTC REAL NULL DEFAULT 0,\n",
      "                MarketID INT NOT NULL,\n",
      "                ExchangeID INT NOT NULL,\n",
      "                Date DATE NOT NULL,\n",
      "                FOREIGN KEY(MarketID) REFERENCES Markets(MarketID) ON DELETE CASCADE,\n",
      "                FOREIGN KEY(ExchangeID) REFERENCES Exchanges(ExchangeID) ON DELETE CASCADE,\n",
      "                FOREIGN KEY(Date) REFERENCES Date_Table(Date) ON DELETE CASCADE\n",
      "                          \n",
      "              ); \n",
      "2021-04-23 10:39:37,015 INFO sqlalchemy.engine.Engine [raw sql] ()\n",
      "2021-04-23 10:39:37,029 INFO sqlalchemy.engine.Engine COMMIT\n"
     ]
    }
   ],
   "source": [
    "engine = db.create_engine('sqlite:///crypto.db', echo=True)\n",
    "meta = db.MetaData(engine)\n",
    "\n",
    "with engine.connect() as con:\n",
    "    con.execute('''\n",
    "        CREATE TABLE IF NOT EXISTS Altcoin_Data\n",
    "              (\n",
    "                ID INT PRIMARY KEY,\n",
    "                Open REAL NULL DEFAULT 0,\n",
    "                High REAL NULL DEFAULT 0,\n",
    "                Low REAL NULL DEFAULT 0,\n",
    "                Close REAL NULL DEFAULT 0,\n",
    "                WeightedPrice REAL NULL DEFAULT 0,\n",
    "                Volume_Market REAL NULL DEFAULT 0,\n",
    "                Volume_BTC REAL NULL DEFAULT 0,\n",
    "                MarketID INT NOT NULL,\n",
    "                ExchangeID INT NOT NULL,\n",
    "                Date DATE NOT NULL,\n",
    "                FOREIGN KEY(MarketID) REFERENCES Markets(MarketID) ON DELETE CASCADE,\n",
    "                FOREIGN KEY(ExchangeID) REFERENCES Exchanges(ExchangeID) ON DELETE CASCADE,\n",
    "                FOREIGN KEY(Date) REFERENCES Date_Table(Date) ON DELETE CASCADE\n",
    "                          \n",
    "              ); ''')\n",
    "    con.close()"
   ]
  },
  {
   "cell_type": "code",
   "execution_count": 5,
   "id": "essential-specification",
   "metadata": {
    "collapsed": true,
    "jupyter": {
     "outputs_hidden": true
    },
    "pycharm": {
     "is_executing": true
    },
    "tags": []
   },
   "outputs": [
    {
     "name": "stdout",
     "output_type": "stream",
     "text": [
      "2021-04-23 10:39:37,040 INFO sqlalchemy.engine.Engine \n",
      "        CREATE TABLE IF NOT EXISTS Fin_Assets_Data\n",
      "              (\n",
      "                ID INT PRIMARY KEY,\n",
      "                Open REAL NULL DEFAULT 0,\n",
      "                High REAL NULL DEFAULT 0,\n",
      "                Low REAL NULL DEFAULT 0,\n",
      "                Close REAL NULL DEFAULT 0,\n",
      "                AdjClose REAL NULL DEFAULT 0,\n",
      "                Volume REAL NULL DEFAULT 0,\n",
      "                Asset VARCHAR(50) NULL,\n",
      "                Symbol VARCHAR(10) NULL,\n",
      "                Source VARCHAR(10) NULL,\n",
      "                MarketID INT NOT NULL,\n",
      "                ExchangeID INT NOT NULL,\n",
      "                Date DATE NOT NULL,\n",
      "                FOREIGN KEY(MarketID) REFERENCES Markets(MarketID) ON DELETE CASCADE,\n",
      "                FOREIGN KEY(ExchangeID) REFERENCES Exchanges(ExchangeID) ON DELETE CASCADE,\n",
      "                FOREIGN KEY(Date) REFERENCES Date_Table(Date) ON DELETE CASCADE\n",
      "                          \n",
      "              ); \n",
      "2021-04-23 10:39:37,041 INFO sqlalchemy.engine.Engine [raw sql] ()\n",
      "2021-04-23 10:39:37,052 INFO sqlalchemy.engine.Engine COMMIT\n"
     ]
    }
   ],
   "source": [
    "engine = db.create_engine('sqlite:///crypto.db', echo=True)\n",
    "meta = db.MetaData(engine)\n",
    "\n",
    "with engine.connect() as con:\n",
    "    con.execute('''\n",
    "        CREATE TABLE IF NOT EXISTS Fin_Assets_Data\n",
    "              (\n",
    "                ID INT PRIMARY KEY,\n",
    "                Open REAL NULL DEFAULT 0,\n",
    "                High REAL NULL DEFAULT 0,\n",
    "                Low REAL NULL DEFAULT 0,\n",
    "                Close REAL NULL DEFAULT 0,\n",
    "                AdjClose REAL NULL DEFAULT 0,\n",
    "                Volume REAL NULL DEFAULT 0,\n",
    "                Asset VARCHAR(50) NULL,\n",
    "                Symbol VARCHAR(10) NULL,\n",
    "                Source VARCHAR(10) NULL,\n",
    "                MarketID INT NOT NULL,\n",
    "                ExchangeID INT NOT NULL,\n",
    "                Date DATE NOT NULL,\n",
    "                FOREIGN KEY(MarketID) REFERENCES Markets(MarketID) ON DELETE CASCADE,\n",
    "                FOREIGN KEY(ExchangeID) REFERENCES Exchanges(ExchangeID) ON DELETE CASCADE,\n",
    "                FOREIGN KEY(Date) REFERENCES Date_Table(Date) ON DELETE CASCADE\n",
    "                          \n",
    "              ); ''')\n",
    "    con.close()"
   ]
  },
  {
   "cell_type": "code",
   "execution_count": 6,
   "id": "expensive-shipping",
   "metadata": {
    "collapsed": true,
    "jupyter": {
     "outputs_hidden": true
    },
    "pycharm": {
     "is_executing": true
    },
    "tags": []
   },
   "outputs": [
    {
     "name": "stdout",
     "output_type": "stream",
     "text": [
      "2021-04-23 10:39:37,074 INFO sqlalchemy.engine.Engine \n",
      "        CREATE TABLE IF NOT EXISTS Transaction_Data\n",
      "              (\n",
      "                ID INT PRIMARY KEY,\n",
      "                Cost_per_TR REAL NULL,\n",
      "                Num_TR_per_Block REAL NULL,\n",
      "                Num_TR_ex_pop INT NULL,\n",
      "                MarketID INT NOT NULL,\n",
      "                Date DATE NOT NULL,\n",
      "                FOREIGN KEY(MarketID) REFERENCES Markets(MarketID) ON DELETE CASCADE,\n",
      "                FOREIGN KEY(Date) REFERENCES Date_Table(Date) ON DELETE CASCADE\n",
      "                          \n",
      "              ); \n",
      "2021-04-23 10:39:37,075 INFO sqlalchemy.engine.Engine [raw sql] ()\n",
      "2021-04-23 10:39:37,085 INFO sqlalchemy.engine.Engine COMMIT\n"
     ]
    }
   ],
   "source": [
    "engine = db.create_engine('sqlite:///crypto.db', echo=True)\n",
    "meta = db.MetaData(engine)\n",
    "\n",
    "with engine.connect() as con:\n",
    "    con.execute('''\n",
    "        CREATE TABLE IF NOT EXISTS Transaction_Data\n",
    "              (\n",
    "                ID INT PRIMARY KEY,\n",
    "                Cost_per_TR REAL NULL,\n",
    "                Num_TR_per_Block REAL NULL,\n",
    "                Num_TR_ex_pop INT NULL,\n",
    "                MarketID INT NOT NULL,\n",
    "                Date DATE NOT NULL,\n",
    "                FOREIGN KEY(MarketID) REFERENCES Markets(MarketID) ON DELETE CASCADE,\n",
    "                FOREIGN KEY(Date) REFERENCES Date_Table(Date) ON DELETE CASCADE\n",
    "                          \n",
    "              ); ''')\n",
    "    con.close()"
   ]
  },
  {
   "cell_type": "code",
   "execution_count": 7,
   "id": "demonstrated-drove",
   "metadata": {
    "collapsed": true,
    "jupyter": {
     "outputs_hidden": true
    },
    "pycharm": {
     "is_executing": true
    },
    "tags": []
   },
   "outputs": [
    {
     "name": "stdout",
     "output_type": "stream",
     "text": [
      "2021-04-23 10:39:37,109 INFO sqlalchemy.engine.Engine \n",
      "        CREATE TABLE IF NOT EXISTS Markets\n",
      "              (\n",
      "                MarketID INT PRIMARY KEY,\n",
      "                Id VARCHAR(50) NOT NULL,\n",
      "                Symbol VARCHAR(10) NOT NULL,\n",
      "                Name VARCHAR(50) NULL,\n",
      "                Market_Cap INT NULL DEFAULT 0,\n",
      "                Market_Cap_Rank INT NOT NULL,\n",
      "                Fully_Diluted_Valuation REAL NULL,\n",
      "                Total_Volume INT NULL DEFAULT 0,\n",
      "                High_24H REAL NULL,\n",
      "                Low_24H REAL NULL,\n",
      "                Price_Change_24H REAL NULL,\n",
      "                Price_Change_Percentage_24H REAL NULL,\n",
      "                Market_Cap_Change_24H REAL NULL,\n",
      "                Market_Cap_Change_Percentage_24H REAL NULL,\n",
      "                Circulating_Supply REAL NULL,\n",
      "                Total_Supply INT NULL DEFAULT 0,\n",
      "                Max_Supply INT NULL DEFAULT 0,\n",
      "                Ath REAL NULL,\n",
      "                Ath_Change_Percentage REAL NULL,\n",
      "                Ath_Date DATETIME NULL,\n",
      "                Atl REAL NULL,\n",
      "                Atl_Change_Percentage REAL NULL,\n",
      "                Atl_Date DATETIME NULL,\n",
      "                Roi TEXT NULL,\n",
      "                Last_Updated DATETIME NULL\n",
      "              ); \n",
      "2021-04-23 10:39:37,111 INFO sqlalchemy.engine.Engine [raw sql] ()\n",
      "2021-04-23 10:39:37,125 INFO sqlalchemy.engine.Engine COMMIT\n"
     ]
    }
   ],
   "source": [
    "engine = db.create_engine('sqlite:///crypto.db', echo=True)\n",
    "meta = db.MetaData(engine)\n",
    "\n",
    "with engine.connect() as con:\n",
    "    con.execute('''\n",
    "        CREATE TABLE IF NOT EXISTS Markets\n",
    "              (\n",
    "                MarketID INT PRIMARY KEY,\n",
    "                Id VARCHAR(50) NOT NULL,\n",
    "                Symbol VARCHAR(10) NOT NULL,\n",
    "                Name VARCHAR(50) NULL,\n",
    "                Market_Cap INT NULL DEFAULT 0,\n",
    "                Market_Cap_Rank INT NOT NULL,\n",
    "                Fully_Diluted_Valuation REAL NULL,\n",
    "                Total_Volume INT NULL DEFAULT 0,\n",
    "                High_24H REAL NULL,\n",
    "                Low_24H REAL NULL,\n",
    "                Price_Change_24H REAL NULL,\n",
    "                Price_Change_Percentage_24H REAL NULL,\n",
    "                Market_Cap_Change_24H REAL NULL,\n",
    "                Market_Cap_Change_Percentage_24H REAL NULL,\n",
    "                Circulating_Supply REAL NULL,\n",
    "                Total_Supply INT NULL DEFAULT 0,\n",
    "                Max_Supply INT NULL DEFAULT 0,\n",
    "                Ath REAL NULL,\n",
    "                Ath_Change_Percentage REAL NULL,\n",
    "                Ath_Date DATETIME NULL,\n",
    "                Atl REAL NULL,\n",
    "                Atl_Change_Percentage REAL NULL,\n",
    "                Atl_Date DATETIME NULL,\n",
    "                Roi TEXT NULL,\n",
    "                Last_Updated DATETIME NULL\n",
    "              ); ''')\n",
    "    con.close()"
   ]
  },
  {
   "cell_type": "code",
   "execution_count": 8,
   "id": "electoral-alloy",
   "metadata": {
    "collapsed": true,
    "jupyter": {
     "outputs_hidden": true
    },
    "pycharm": {
     "is_executing": true
    },
    "tags": []
   },
   "outputs": [
    {
     "name": "stdout",
     "output_type": "stream",
     "text": [
      "2021-04-23 10:39:37,136 INFO sqlalchemy.engine.Engine \n",
      "        CREATE TABLE IF NOT EXISTS Exchanges\n",
      "              (\n",
      "                ExchangeID INT PRIMARY KEY,\n",
      "                Id VARCHAR(50) NOT NULL,\n",
      "                Name VARCHAR(50) NULL,\n",
      "                Year_Established REAL NULL,\n",
      "                Country VARCHAR(50) NULL,\n",
      "                Description TEXT NULL,\n",
      "                Url TEXT NULL,\n",
      "                Image TEXT NULL,\n",
      "                Has_Trading_Incentive REAL NULL,                       \n",
      "                Trust_Score INT NOT NULL,\n",
      "                Truest_Score_Rank INT NOT NULL,\n",
      "                Trade_Volume_24H_Btc REAL NULL DEFAULT 0,\n",
      "                Trade_Volume_24H_Btc_Normalized REAL NULL DEFAULT 0,\n",
      "                Trading_Inc INT NULL\n",
      "              ); \n",
      "2021-04-23 10:39:37,137 INFO sqlalchemy.engine.Engine [raw sql] ()\n",
      "2021-04-23 10:39:37,147 INFO sqlalchemy.engine.Engine COMMIT\n"
     ]
    }
   ],
   "source": [
    "engine = db.create_engine('sqlite:///crypto.db', echo=True)\n",
    "meta = db.MetaData(engine)\n",
    "\n",
    "with engine.connect() as con:\n",
    "    con.execute('''\n",
    "        CREATE TABLE IF NOT EXISTS Exchanges\n",
    "              (\n",
    "                ExchangeID INT PRIMARY KEY,\n",
    "                Id VARCHAR(50) NOT NULL,\n",
    "                Name VARCHAR(50) NULL,\n",
    "                Year_Established REAL NULL,\n",
    "                Country VARCHAR(50) NULL,\n",
    "                Description TEXT NULL,\n",
    "                Url TEXT NULL,\n",
    "                Image TEXT NULL,\n",
    "                Has_Trading_Incentive REAL NULL,                       \n",
    "                Trust_Score INT NOT NULL,\n",
    "                Truest_Score_Rank INT NOT NULL,\n",
    "                Trade_Volume_24H_Btc REAL NULL DEFAULT 0,\n",
    "                Trade_Volume_24H_Btc_Normalized REAL NULL DEFAULT 0,\n",
    "                Trading_Inc INT NULL\n",
    "              ); ''')\n",
    "    con.close()"
   ]
  },
  {
   "cell_type": "code",
   "execution_count": 9,
   "id": "anonymous-ordinance",
   "metadata": {
    "collapsed": true,
    "jupyter": {
     "outputs_hidden": true
    },
    "tags": []
   },
   "outputs": [
    {
     "name": "stdout",
     "output_type": "stream",
     "text": [
      "2021-04-23 10:39:37,166 INFO sqlalchemy.engine.Engine \n",
      "        CREATE TABLE IF NOT EXISTS Sentiments_Data\n",
      "              (\n",
      "                ID INT PRIMARY KEY,\n",
      "                Bullish REAL NULL,\n",
      "                Bearish REAL NULL,\n",
      "                Bull_MA_8wk REAL NULL,\n",
      "                Bull_BearSpread REAL NULL,\n",
      "                Bear_MA_8wk REAL NULL,\n",
      "                Bull_BearSpreadMA_8wk REAL NULL,\n",
      "                Date DATE NOT NULL,\n",
      "                FOREIGN KEY(Date) REFERENCES Date_Table(Date) ON DELETE CASCADE\n",
      "              ); \n",
      "2021-04-23 10:39:37,167 INFO sqlalchemy.engine.Engine [raw sql] ()\n",
      "2021-04-23 10:39:37,177 INFO sqlalchemy.engine.Engine COMMIT\n"
     ]
    }
   ],
   "source": [
    "engine = db.create_engine('sqlite:///crypto.db', echo=True)\n",
    "meta = db.MetaData(engine)\n",
    "\n",
    "with engine.connect() as con:\n",
    "    con.execute('''\n",
    "        CREATE TABLE IF NOT EXISTS Sentiments_Data\n",
    "              (\n",
    "                ID INT PRIMARY KEY,\n",
    "                Bullish REAL NULL,\n",
    "                Bearish REAL NULL,\n",
    "                Bull_MA_8wk REAL NULL,\n",
    "                Bull_BearSpread REAL NULL,\n",
    "                Bear_MA_8wk REAL NULL,\n",
    "                Bull_BearSpreadMA_8wk REAL NULL,\n",
    "                Date DATE NOT NULL,\n",
    "                FOREIGN KEY(Date) REFERENCES Date_Table(Date) ON DELETE CASCADE\n",
    "              ); ''')\n",
    "    con.close()"
   ]
  },
  {
   "cell_type": "code",
   "execution_count": 10,
   "id": "contained-james",
   "metadata": {
    "collapsed": true,
    "jupyter": {
     "outputs_hidden": true
    },
    "tags": []
   },
   "outputs": [
    {
     "name": "stdout",
     "output_type": "stream",
     "text": [
      "2021-04-23 10:39:37,196 INFO sqlalchemy.engine.Engine \n",
      "        CREATE TABLE IF NOT EXISTS Emmissions_Data\n",
      "              (\n",
      "                ID INT PRIMARY KEY,\n",
      "                Year INT NOT NULL,\n",
      "                CO2_Em REAL NULL,\n",
      "                FOREIGN KEY(Year) REFERENCES Date_Table(Year) ON DELETE CASCADE                          \n",
      "              ); \n",
      "2021-04-23 10:39:37,197 INFO sqlalchemy.engine.Engine [raw sql] ()\n",
      "2021-04-23 10:39:37,208 INFO sqlalchemy.engine.Engine COMMIT\n"
     ]
    }
   ],
   "source": [
    "engine = db.create_engine('sqlite:///crypto.db', echo=True)\n",
    "meta = db.MetaData(engine)\n",
    "\n",
    "with engine.connect() as con:\n",
    "    con.execute('''\n",
    "        CREATE TABLE IF NOT EXISTS Emmissions_Data\n",
    "              (\n",
    "                ID INT PRIMARY KEY,\n",
    "                Year INT NOT NULL,\n",
    "                CO2_Em REAL NULL,\n",
    "                FOREIGN KEY(Year) REFERENCES Date_Table(Year) ON DELETE CASCADE                          \n",
    "              ); ''')\n",
    "    con.close()"
   ]
  },
  {
   "cell_type": "code",
   "execution_count": 11,
   "id": "hungarian-hollywood",
   "metadata": {
    "collapsed": true,
    "jupyter": {
     "outputs_hidden": true
    },
    "pycharm": {
     "is_executing": true
    },
    "tags": []
   },
   "outputs": [
    {
     "name": "stdout",
     "output_type": "stream",
     "text": [
      "2021-04-23 10:39:37,232 INFO sqlalchemy.engine.Engine \n",
      "        CREATE TABLE IF NOT EXISTS Date_Table\n",
      "              (\n",
      "                ID INT NOT NULL,\n",
      "                Date DATE PRIMARY KEY,\n",
      "                DateID INT NOT NULL,\n",
      "                Week_day VARCHAR(50) NOT NULL,\n",
      "                Day INT NOT NULL,\n",
      "                Month INT NOT NULL,\n",
      "                Week INT NOT NULL,\n",
      "                Quarter INT NOT NULL,\n",
      "                Year INT NOT NULL\n",
      "                          \n",
      "              ); \n",
      "2021-04-23 10:39:37,233 INFO sqlalchemy.engine.Engine [raw sql] ()\n",
      "2021-04-23 10:39:37,247 INFO sqlalchemy.engine.Engine COMMIT\n"
     ]
    }
   ],
   "source": [
    "engine = db.create_engine('sqlite:///crypto.db', echo=True)\n",
    "meta = db.MetaData(engine)\n",
    "\n",
    "with engine.connect() as con:\n",
    "    con.execute('''\n",
    "        CREATE TABLE IF NOT EXISTS Date_Table\n",
    "              (\n",
    "                ID INT NOT NULL,\n",
    "                Date DATE PRIMARY KEY,\n",
    "                DateID INT NOT NULL,\n",
    "                Week_day VARCHAR(50) NOT NULL,\n",
    "                Day INT NOT NULL,\n",
    "                Month INT NOT NULL,\n",
    "                Week INT NOT NULL,\n",
    "                Quarter INT NOT NULL,\n",
    "                Year INT NOT NULL\n",
    "                          \n",
    "              ); ''')\n",
    "    con.close()"
   ]
  },
  {
   "cell_type": "code",
   "execution_count": 12,
   "id": "desperate-nepal",
   "metadata": {
    "pycharm": {
     "is_executing": true
    }
   },
   "outputs": [
    {
     "name": "stdout",
     "output_type": "stream",
     "text": [
      "2021-04-23 10:39:37,258 INFO sqlalchemy.engine.Engine SELECT name FROM sqlite_master WHERE type='table' ORDER BY name\n",
      "2021-04-23 10:39:37,259 INFO sqlalchemy.engine.Engine [raw sql] ()\n"
     ]
    },
    {
     "data": {
      "text/plain": [
       "['Altcoin_Data',\n",
       " 'BTC_Data',\n",
       " 'Date_Table',\n",
       " 'Emmissions_Data',\n",
       " 'Exchanges',\n",
       " 'Fin_Assets_Data',\n",
       " 'Markets',\n",
       " 'Sentiments_Data',\n",
       " 'Transaction_Data']"
      ]
     },
     "execution_count": 12,
     "metadata": {},
     "output_type": "execute_result"
    }
   ],
   "source": [
    "inspector = db.inspect(engine)\n",
    "table_names = inspector.get_table_names()\n",
    "table_names"
   ]
  },
  {
   "cell_type": "code",
   "execution_count": 13,
   "id": "square-eleven",
   "metadata": {
    "pycharm": {
     "is_executing": true
    },
    "tags": []
   },
   "outputs": [],
   "source": [
    "#for table in table_names:\n",
    "#    load_to_sql(table)"
   ]
  },
  {
   "cell_type": "code",
   "execution_count": 14,
   "id": "designing-boring",
   "metadata": {
    "pycharm": {
     "is_executing": true
    }
   },
   "outputs": [
    {
     "name": "stdout",
     "output_type": "stream",
     "text": [
      "2021-04-23 10:39:37,290 INFO sqlalchemy.engine.Engine \n",
      "    SELECT * \n",
      "    FROM BTC_DATA;\n",
      "        \n",
      "2021-04-23 10:39:37,291 INFO sqlalchemy.engine.Engine [raw sql] ()\n"
     ]
    }
   ],
   "source": [
    "engine = db.create_engine('sqlite:///crypto.db', echo=True)\n",
    "\n",
    "with engine.connect() as con:\n",
    "    df_sql = pd.read_sql_query(\"\"\"\n",
    "    SELECT * \n",
    "    FROM BTC_DATA;\n",
    "        \"\"\", con)\n",
    "    con.close()"
   ]
  },
  {
   "cell_type": "code",
   "execution_count": 15,
   "id": "occupied-kenya",
   "metadata": {
    "pycharm": {
     "is_executing": true
    },
    "tags": []
   },
   "outputs": [
    {
     "data": {
      "text/html": [
       "<div>\n",
       "<style scoped>\n",
       "    .dataframe tbody tr th:only-of-type {\n",
       "        vertical-align: middle;\n",
       "    }\n",
       "\n",
       "    .dataframe tbody tr th {\n",
       "        vertical-align: top;\n",
       "    }\n",
       "\n",
       "    .dataframe thead th {\n",
       "        text-align: right;\n",
       "    }\n",
       "</style>\n",
       "<table border=\"1\" class=\"dataframe\">\n",
       "  <thead>\n",
       "    <tr style=\"text-align: right;\">\n",
       "      <th></th>\n",
       "      <th>ID</th>\n",
       "      <th>Open</th>\n",
       "      <th>High</th>\n",
       "      <th>Low</th>\n",
       "      <th>Close</th>\n",
       "      <th>WeightedPrice</th>\n",
       "      <th>Volume_USD</th>\n",
       "      <th>Volume_BTC</th>\n",
       "      <th>MarketID</th>\n",
       "      <th>ExchangeID</th>\n",
       "      <th>Date</th>\n",
       "    </tr>\n",
       "  </thead>\n",
       "  <tbody>\n",
       "  </tbody>\n",
       "</table>\n",
       "</div>"
      ],
      "text/plain": [
       "Empty DataFrame\n",
       "Columns: [ID, Open, High, Low, Close, WeightedPrice, Volume_USD, Volume_BTC, MarketID, ExchangeID, Date]\n",
       "Index: []"
      ]
     },
     "execution_count": 15,
     "metadata": {},
     "output_type": "execute_result"
    }
   ],
   "source": [
    "df_sql"
   ]
  }
 ],
 "metadata": {
  "kernelspec": {
   "display_name": "PyCharm (crypto_project)",
   "language": "python",
   "name": "pycharm-14c6ff91"
  },
  "language_info": {
   "codemirror_mode": {
    "name": "ipython",
    "version": 3
   },
   "file_extension": ".py",
   "mimetype": "text/x-python",
   "name": "python",
   "nbconvert_exporter": "python",
   "pygments_lexer": "ipython3",
   "version": "3.8.8"
  }
 },
 "nbformat": 4,
 "nbformat_minor": 5
}
