{
 "cells": [
  {
   "cell_type": "markdown",
   "metadata": {},
   "source": [
    "## Import Libraries"
   ]
  },
  {
   "cell_type": "code",
   "execution_count": null,
   "metadata": {
    "pycharm": {
     "is_executing": true
    },
    "tags": []
   },
   "outputs": [],
   "source": [
    "import os\n",
    "import re\n",
    "import pathlib\n",
    "import json\n",
    "import sqlalchemy as db\n",
    "\n",
    "from datetime import datetime, date\n",
    "\n",
    "import numpy as np\n",
    "import pandas as pd\n",
    "import statsmodels.api as sm\n",
    "\n",
    "from sklearn.model_selection import train_test_split\n",
    "\n",
    "import matplotlib.pyplot as plt\n",
    "import seaborn as sns\n",
    "import mplfinance as mpf\n",
    "from statsmodels.graphics.gofplots import qqplot\n",
    "\n",
    "import plotly.offline as pyo\n",
    "import plotly.graph_objects as go\n",
    "import plotly.figure_factory as ff\n",
    "from plotly.subplots import make_subplots\n",
    "\n",
    "pyo.init_notebook_mode(connected=True)\n"
   ]
  },
  {
   "cell_type": "markdown",
   "metadata": {},
   "source": [
    "## Configurations"
   ]
  },
  {
   "cell_type": "code",
   "execution_count": null,
   "metadata": {
    "pycharm": {
     "is_executing": true
    },
    "tags": []
   },
   "outputs": [],
   "source": [
    "import quandl\n",
    "import pandas_datareader as pdr\n",
    "from pycoingecko import CoinGeckoAPI\n",
    "import yfinance as yf\n",
    "import twitter\n",
    "\n",
    "# Quandl API\n",
    "quandl_key = \"f6Y8avFQZwXp37ftC1_6\"\n",
    "quandl.ApiConfig.api_key = quandl_key\n",
    "cg = CoinGeckoAPI()\n",
    "\n",
    "# EIA API\n",
    "eia_key = \"320c16a416c0cb06ed1a737576ec3ee0\"\n",
    "eia_id = \"\"\n",
    "eia_url = f\"http://api.eia.gov/series/?api_key={eia_key}&series_id={eia_id}\"\n",
    "\n",
    "# Twitter API\n",
    "tw_consumer_key = \"\"\n",
    "tw_consumer_secret = \"\"\n",
    "tw_token = \"\"\n",
    "tw_token_secret = \"\"\n",
    "\n",
    "#api = twitter.Api(consumer_key=tw_consumer_key,\n",
    "#                 consumer_secret=tw_consumer_secret,\n",
    "#                  access_token_key=tw_token,\n",
    "#                  access_token_secret=tw_token_secret)\n",
    "\n",
    "twitter_search_url = 'https://twitter.com/search?q=(bitcoin%20OR%20ethereum%20OR%20cryptocurrency)&src=typed_query'\n",
    "#results = api.GetSearch(twitter_search_url)\n",
    "\n",
    "project_dir = pathlib.Path().absolute()\n",
    "workdir = project_dir.parent\n",
    "# print(f\"{project_dir}\\n{workdir}\")"
   ]
  },
  {
   "cell_type": "markdown",
   "metadata": {},
   "source": [
    "## Build functions"
   ]
  },
  {
   "cell_type": "markdown",
   "metadata": {},
   "source": [
    "#### Local Functions for Data manipulation"
   ]
  },
  {
   "cell_type": "code",
   "execution_count": null,
   "metadata": {
    "pycharm": {
     "is_executing": true
    },
    "tags": []
   },
   "outputs": [],
   "source": [
    "def check_items(list1, list2):\n",
    "    check = all(item in list1 for item in list2)\n",
    "    return check\n",
    "\n",
    "def value_mapper(df, col_name_to_map, new_col_name, mapping_dict):\n",
    "    df[new_col_name] = df[col_name_to_map].str.upper().map(mapping_dict)\n",
    "    return df\n",
    "\n",
    "def df_subset(df, df_name, mapping_dict):\n",
    "    columns_mapped = [i for i in mapping_dict[df_name][0]]\n",
    "    df_subset = df[[column for column in df.columns if column in columns_mapped]]\n",
    "    return df_subset\n",
    "\n",
    "\n",
    "def column_rename(df, df_name, mapping_dict):\n",
    "    df_renamed = df.rename(columns=mapping_dict[df_name][0])\n",
    "    return df_renamed\n",
    "\n",
    "\n",
    "def df_date_to_col(df):\n",
    "    df_new_index = df.reset_index()\n",
    "    df_date_col = df_new_index.rename(columns={'index': 'Date', 'date': 'Date'})\n",
    "    return df_date_col\n",
    "\n",
    "\n",
    "def sql_preprocess(df, df_name, mapping_dict):\n",
    "    df_sub = df_subset(df, df_name, mapping_dict)\n",
    "    df_ren = column_rename(df_sub, df_name, mapping_dict)\n",
    "    df_prep = df_date_to_col(df_ren)\n",
    "    return df_prep\n",
    "\n",
    "def load_to_sql(table_name):\n",
    "    engine = db.create_engine('sqlite:///crypto.db', echo=True)\n",
    "    meta = db.MetaData(engine)\n",
    "\n",
    "    with engine.connect() as con:\n",
    "        df_btc_prep.to_sql(table_name, con=con, if_exists='replace', index=False)\n",
    "        con.close()\n",
    "\n",
    "def create_date_table(start='1900-01-01', end='2099-12-31'):\n",
    "   df = pd.DataFrame({\"Date\": pd.date_range(start, end)})\n",
    "   df[\"Week_day\"] = df.Date.dt.day_name()\n",
    "   df[\"Day\"] = df.Date.dt.day\n",
    "   df[\"Month\"] = df.Date.dt.month\n",
    "   df[\"Week\"] = df.Date.dt.isocalendar().week\n",
    "   df[\"Quarter\"] = df.Date.dt.quarter\n",
    "   df[\"Year\"] = df.Date.dt.year\n",
    "   df.insert(0, 'DateID', (df.Year.astype(str) + df.Month.astype(str).str.zfill(2) + df.Day.astype(str).str.zfill(2)).astype(int))\n",
    "   return df\n",
    "\n",
    "def calculate_average(row_col):\n",
    "    return row_col.mean()\n"
   ]
  },
  {
   "cell_type": "markdown",
   "metadata": {},
   "source": [
    "#### Data Import functions"
   ]
  },
  {
   "cell_type": "code",
   "execution_count": null,
   "metadata": {
    "pycharm": {
     "is_executing": true
    },
    "tags": []
   },
   "outputs": [],
   "source": [
    "def jprint(obj):\n",
    "    text = json.dumps(obj, sort_keys=True, indent=4)\n",
    "    print(text)\n",
    "\n",
    "def get_json_data(data_id, json_path, provider):\n",
    "    \"\"\"Download and cache JSON data, return as a dataframe.\"\"\"\n",
    "    \n",
    "    cache_path = f\"{workdir}\\\\02_Resources\\{data_id}.json\"\n",
    "    try:        \n",
    "        f = open(cache_path, 'rb')\n",
    "        df = pd.read_json(f)   \n",
    "        print(f\"Loaded {cache_path} from cache\")\n",
    "    except (OSError, IOError) as e:\n",
    "        print(f\"Downloading {data_id} from {provider}\")\n",
    "        df = pd.read_json(json_path)\n",
    "        df.to_json(cache_path)\n",
    "        print(f\"Cached {data_id} at {cache_path}\")\n",
    "    return df\n",
    "\n",
    "\n",
    "\n",
    "## Quandl Data import\n",
    "# Bitcoin Charts Exchange Rate Data\n",
    "\n",
    "def get_quandl_data(quandl_id):\n",
    "    \"\"\"\" Download quandl data and load to json \"\"\"\n",
    "    \n",
    "    data_id = quandl_id.replace('/', '-')\n",
    "    provider = \"Quandl\"\n",
    "    df = quandl.get(quandl_id, returns=\"pandas\")\n",
    "    json_path = df.to_json()\n",
    "    return get_json_data(data_id, json_path, provider)\n",
    "\n",
    "\n",
    "    \n",
    "## Yahoo Finance Data import\n",
    "\n",
    "def get_yfinance_data(ticker):\n",
    "    \"\"\"\" Download yahoo finance data and load to json \"\"\"\n",
    "    \n",
    "    data_id = re.sub(r'\\W+', '_', ticker)\n",
    "    provider = \"Yahoo\"\n",
    "    df = yf.download(ticker)\n",
    "    json_path = df.to_json()\n",
    "    return get_json_data(data_id, json_path, provider)\n",
    "\n",
    "## Data Reader Data import\n",
    "\n",
    "def get_datareader_data(datareader_id, provider):\n",
    "    \"\"\"\" Download datareader data and load to json \"\"\"\n",
    "    data_id = datareader_id\n",
    "    df = pdr.DataReader(datareader_id, provider)\n",
    "    if df.shape[0]!=df.index.nunique():\n",
    "        idx = np.unique(df.index.values, return_index=True)[1]\n",
    "        df = df.iloc[idx]    \n",
    "            \n",
    "    json_path = df.to_json()\n",
    "    return get_json_data(data_id, json_path, provider)\n",
    "\n",
    "\n",
    "## Poloniex Data import\n",
    "\n",
    "base_polo_url = 'https://poloniex.com/public?command=returnChartData&currencyPair={}&start={}&end={}&period={}'\n",
    "start_date = datetime.strptime('2014-01-01', '%Y-%m-%d') # get data from the start of 2014\n",
    "end_date = datetime.now() # up until today\n",
    "period = 86400 # pull daily data (86,400 seconds per day)\n",
    "\n",
    "def get_poloniex_data(poloniex_pair):\n",
    "    \"\"\"Retrieve cryptocurrency data from poloniex\"\"\"\n",
    "    \n",
    "    data_id = poloniex_pair\n",
    "    provider=\"Poloniex\"\n",
    "    json_url = base_polo_url.format(poloniex_pair, start_date.timestamp(), end_date.timestamp(), period)\n",
    "    df = get_json_data(data_id, json_url, poloniex_pair)\n",
    "    df = df.set_index('date')\n",
    "    return df\n"
   ]
  },
  {
   "cell_type": "markdown",
   "metadata": {},
   "source": [
    "## Data Collection"
   ]
  },
  {
   "cell_type": "markdown",
   "metadata": {},
   "source": [
    "### Collect Market & Exchange data"
   ]
  },
  {
   "cell_type": "code",
   "execution_count": null,
   "metadata": {
    "pycharm": {
     "is_executing": true
    }
   },
   "outputs": [],
   "source": [
    "# Market (Asset) Data from Coingecko.com\n",
    "\n",
    "markets_list = cg.get_coins_markets(vs_currency='usd')\n",
    "market_names = []\n",
    "for item in markets_list:\n",
    "    market_names.append(item['name'])\n",
    "df_cg_markets = pd.DataFrame.from_dict(markets_list)\n",
    "df_cg_markets.columns = df_cg_markets.columns.str.title()\n",
    "df_cg_markets.head()"
   ]
  },
  {
   "cell_type": "code",
   "execution_count": null,
   "metadata": {
    "pycharm": {
     "is_executing": true
    }
   },
   "outputs": [],
   "source": [
    "# Exchange Data from Coingecko.com\n",
    "\n",
    "exchanges_list = cg.get_exchanges_list()\n",
    "exchange_names = []\n",
    "for item in exchanges_list:\n",
    "    exchange_names.append(item['name'])\n",
    "df_cg_exchanges = pd.DataFrame.from_dict(exchanges_list)\n",
    "df_cg_exchanges.columns = df_cg_exchanges.columns.str.title() \n",
    "df_cg_exchanges.head()"
   ]
  },
  {
   "cell_type": "code",
   "execution_count": null,
   "metadata": {
    "pycharm": {
     "is_executing": true
    },
    "tags": []
   },
   "outputs": [],
   "source": [
    "# jprint(markets_list)"
   ]
  },
  {
   "cell_type": "code",
   "execution_count": null,
   "metadata": {
    "pycharm": {
     "is_executing": true
    }
   },
   "outputs": [],
   "source": [
    "# jprint(exchanges_list)"
   ]
  },
  {
   "cell_type": "code",
   "execution_count": null,
   "metadata": {
    "pycharm": {
     "is_executing": true
    }
   },
   "outputs": [],
   "source": [
    "print(f\"No. of Assests:   {len(market_names)}\\n\" \\\n",
    "      f\"No. of Exchanges: {len(exchange_names)}\")"
   ]
  },
  {
   "cell_type": "code",
   "execution_count": null,
   "metadata": {
    "pycharm": {
     "is_executing": true
    }
   },
   "outputs": [],
   "source": [
    "print(df_cg_markets['Symbol'])"
   ]
  },
  {
   "cell_type": "code",
   "execution_count": null,
   "metadata": {
    "pycharm": {
     "is_executing": true
    },
    "tags": []
   },
   "outputs": [],
   "source": [
    "print(df_cg_exchanges['Id'])"
   ]
  },
  {
   "cell_type": "markdown",
   "metadata": {},
   "source": [
    "### Collect Bitcoin Data from different exchanges from Quandl"
   ]
  },
  {
   "cell_type": "code",
   "execution_count": null,
   "metadata": {
    "pycharm": {
     "is_executing": true
    },
    "tags": []
   },
   "outputs": [],
   "source": [
    "from quandl.errors.quandl_error import NotFoundError\n",
    "\n",
    "exchanges = df_cg_exchanges['Id'].str.upper()\n",
    "\n",
    "df_run_all = []\n",
    "    \n",
    "for exchange in exchanges:\n",
    "    exchange_code = f\"BCHARTS/{exchange}USD\"\n",
    "   \n",
    "    try:\n",
    "        df = get_quandl_data(exchange_code)\n",
    "        df['Exchange'] = exchange\n",
    "        df_run_all.append(df)\n",
    "        \n",
    "    except NotFoundError as e:\n",
    "        continue\n",
    "\n",
    "df_quandl_btc_data = pd.concat(df_run_all)"
   ]
  },
  {
   "cell_type": "code",
   "execution_count": null,
   "metadata": {
    "pycharm": {
     "is_executing": true
    }
   },
   "outputs": [],
   "source": [
    "df_quandl_btc_data.rename(columns={'Volume (BTC)': 'Volume_BTC', 'Volume (Currency)': 'Volume_USD'}, inplace=True)\n",
    "df_quandl_btc_data.sort_index(inplace=True)\n",
    "df_quandl_btc_data.tail()"
   ]
  },
  {
   "cell_type": "markdown",
   "metadata": {},
   "source": [
    "### Collect Bitcoin Data from Poloniex"
   ]
  },
  {
   "cell_type": "code",
   "execution_count": null,
   "metadata": {
    "pycharm": {
     "is_executing": true
    },
    "tags": []
   },
   "outputs": [],
   "source": [
    "df_poloniex_btc_data = get_poloniex_data(\"USDT_BTC\")\n",
    "df_poloniex_btc_data.columns= df_poloniex_btc_data.columns.str.title()\n",
    "df_poloniex_btc_data = df_poloniex_btc_data.rename(columns={'Volume': 'Volume_USD', 'Quotevolume': 'Volume_BTC',  \n",
    "                                                     'Weightedaverage': 'Weighted Price'})\n",
    "\n",
    "df_poloniex_btc_data['Exchange'] = 'POLONIEX'\n",
    "column_names_btc=['Open', 'High', 'Low', 'Close', 'Volume_BTC', 'Volume_USD', 'Weighted Price', 'Exchange']\n",
    "df_poloniex_btc_data = df_poloniex_btc_data.reindex(columns=column_names_btc)\n",
    "df_poloniex_btc_data.sort_index(inplace=True)\n",
    "df_poloniex_btc_data.tail()"
   ]
  },
  {
   "cell_type": "markdown",
   "metadata": {},
   "source": [
    "### Append Poloniex Data to have the consoildated BTC Dataset"
   ]
  },
  {
   "cell_type": "code",
   "execution_count": null,
   "metadata": {
    "pycharm": {
     "is_executing": true
    }
   },
   "outputs": [],
   "source": [
    "df_btc_data = df_quandl_btc_data.append(df_poloniex_btc_data)\n",
    "df_btc_data.sort_values(by=['Exchange'])\n",
    "df_btc_data['Market'] = \"BTC\"\n",
    "df_btc_data = df_btc_data.sort_index()\n",
    "df_btc_data.tail()"
   ]
  },
  {
   "cell_type": "markdown",
   "metadata": {},
   "source": [
    "## Data Ingestion"
   ]
  },
  {
   "cell_type": "markdown",
   "metadata": {},
   "source": [
    "### Collect Altcoin Data from Quandl"
   ]
  },
  {
   "cell_type": "code",
   "execution_count": null,
   "metadata": {
    "pycharm": {
     "is_executing": true
    },
    "tags": []
   },
   "outputs": [],
   "source": [
    "from quandl.errors.quandl_error import NotFoundError\n",
    "\n",
    "markets = df_cg_markets['Symbol'].str.upper()\n",
    "\n",
    "df_run_mkt_new = []\n",
    "    \n",
    "for market in markets:\n",
    "    market_code = f\"BITFINEX/{market}BTC\"\n",
    "   \n",
    "    try:\n",
    "        df = get_quandl_data(market_code)\n",
    "        df['Market'] = market\n",
    "        df_run_mkt_new.append(df)\n",
    "        \n",
    "    except NotFoundError as e:\n",
    "        continue\n",
    "\n",
    "df_altcoin_quandl = pd.concat(df_run_mkt_new)"
   ]
  },
  {
   "cell_type": "code",
   "execution_count": null,
   "metadata": {
    "pycharm": {
     "is_executing": true
    }
   },
   "outputs": [],
   "source": [
    "df_altcoin_quandl_data = df_altcoin_quandl.sort_index()\n",
    "df_altcoin_quandl_data.tail()"
   ]
  },
  {
   "cell_type": "markdown",
   "metadata": {},
   "source": [
    "### Collect Altcoin data from Poloniex "
   ]
  },
  {
   "cell_type": "code",
   "execution_count": null,
   "metadata": {
    "pycharm": {
     "is_executing": true
    },
    "tags": []
   },
   "outputs": [],
   "source": [
    "altcoins = markets\n",
    "df_run_altcoin_new = []\n",
    "\n",
    "for altcoin in altcoins:\n",
    "    coinpair = f\"BTC_{altcoin}\"\n",
    "    try:\n",
    "        df = get_poloniex_data(coinpair)\n",
    "        df['Market'] = altcoin\n",
    "        df_run_altcoin_new.append(df)\n",
    "                \n",
    "    except ValueError as e:\n",
    "        continue\n",
    "\n",
    "df_altcoin_poloniex = pd.concat(df_run_altcoin_new)"
   ]
  },
  {
   "cell_type": "code",
   "execution_count": null,
   "metadata": {
    "pycharm": {
     "is_executing": true
    }
   },
   "outputs": [],
   "source": [
    "df_altcoin_poloniex_data = df_altcoin_poloniex.sort_index()\n",
    "df_altcoin_poloniex_data.tail()"
   ]
  },
  {
   "cell_type": "code",
   "execution_count": null,
   "metadata": {
    "pycharm": {
     "is_executing": true
    }
   },
   "outputs": [],
   "source": [
    "print(f\"Number of observations Quandl Dataset  : {df_altcoin_quandl_data.shape[0]}\\n\" \\\n",
    "      f\"Number of observations Poloniex Dataset: {df_altcoin_poloniex_data.shape[0]}\\n\")\n",
    "\n",
    "print(f\"Number of Assets quoted Quandl   : {len(set(df_altcoin_quandl_data['Market']))}\\n\" \\\n",
    "      f\"Number of Assets quoted Poloniex : {len(set(df_altcoin_poloniex_data['Market']))}\")"
   ]
  },
  {
   "cell_type": "code",
   "execution_count": null,
   "metadata": {
    "pycharm": {
     "is_executing": true
    }
   },
   "outputs": [],
   "source": [
    "print(\"Sum of N/As Quandl Dataset:\", df_altcoin_quandl_data.isna().sum().sum())\n",
    "print(\"Sum of N/As Poloniex Dataset:\", df_altcoin_poloniex_data.isna().sum().sum())"
   ]
  },
  {
   "cell_type": "markdown",
   "metadata": {},
   "source": [
    "#### Take Poloniex for Altcoin data"
   ]
  },
  {
   "cell_type": "code",
   "execution_count": null,
   "metadata": {
    "pycharm": {
     "is_executing": true
    }
   },
   "outputs": [],
   "source": [
    "df_altcoin_poloniex_data.columns = df_altcoin_poloniex_data.columns.str.title()\n",
    "df_altcoin_poloniex_data = df_altcoin_poloniex_data.rename(columns={'Volume': 'Volume_BTC', 'Quotevolume': 'Volume_Market',  \n",
    "                                                     'Weightedaverage': 'Weighted Price'})\n",
    "\n",
    "df_altcoin_poloniex_data['Exchange'] = 'POLONIEX'\n",
    "column_names_altcoin=['Open', 'High', 'Low', 'Close', 'Volume_BTC', 'Volume_Market', 'Weighted Price', 'Exchange', 'Market']\n",
    "df_altcoin_poloniex_data = df_altcoin_poloniex_data.reindex(columns=column_names_altcoin)\n",
    "\n",
    "df_altcoin_poloniex_data.tail()"
   ]
  },
  {
   "cell_type": "markdown",
   "metadata": {},
   "source": [
    "### Inject Other relevant Data"
   ]
  },
  {
   "cell_type": "code",
   "execution_count": null,
   "metadata": {
    "pycharm": {
     "is_executing": true
    },
    "tags": []
   },
   "outputs": [],
   "source": [
    "# Get Bitcoin mining data from Quandl / Bitcoinwatch\n",
    "\n",
    "df_mining_data = get_quandl_data('BITCOINWATCH/MINING')\n",
    "df_mining_data['Market'] = 'BTC'\n",
    "df_mining_data['Source'] = 'BITCOINWATCH'\n",
    "df_mining_data.tail()"
   ]
  },
  {
   "cell_type": "code",
   "execution_count": null,
   "metadata": {
    "pycharm": {
     "is_executing": true
    },
    "tags": []
   },
   "outputs": [],
   "source": [
    "# Get Commodities, Indices, etc. from Yahoo Finance\n",
    "\n",
    "tickers = {\n",
    "    'Oil_Price': 'CL=F',\n",
    "    'Gold_Price': 'GC=F',\n",
    "    'SP500': '^GSPC',\n",
    "    'DJI': '^DJI',\n",
    "    'Nasdaq': '^IXIC',\n",
    "    'Tesla': 'TSLA'\n",
    "}\n",
    "\n",
    "asset_list = []\n",
    "\n",
    "for name, ticker in tickers.items():\n",
    "    df = get_yfinance_data(ticker)\n",
    "    df['Asset'] = name\n",
    "    df['Symbol'] = re.sub(r'\\W+', '', ticker)\n",
    "    df['Source'] = 'YAHOO'\n",
    "    asset_list.append(df)\n",
    "    \n",
    "df_asset_data = pd.concat(asset_list)\n",
    "df_asset_data.tail()"
   ]
  },
  {
   "cell_type": "code",
   "execution_count": null,
   "metadata": {
    "pycharm": {
     "is_executing": true
    }
   },
   "outputs": [],
   "source": [
    "tickers = {\n",
    "    'SP500': '^GSPC',\n",
    "    'DJI': '^DJI',\n",
    "    'Nasdaq': '^IXIC',\n",
    "    'Tesla': 'TSLA'\n",
    "}\n",
    "\n",
    "asset_list = []\n",
    "\n",
    "for name, ticker in tickers.items():\n",
    "    df = get_yfinance_data(ticker)\n",
    "    df['Asset'] = name\n",
    "    df['Symbol'] = re.sub(r'\\W+', '', ticker)\n",
    "    df['Source'] = 'YAHOO'\n",
    "    asset_list.append(df)\n",
    "    \n",
    "df_asset_data = pd.concat(asset_list)\n",
    "df_asset_data.tail()"
   ]
  },
  {
   "cell_type": "code",
   "execution_count": null,
   "metadata": {
    "pycharm": {
     "is_executing": true
    }
   },
   "outputs": [],
   "source": [
    "asset_list"
   ]
  },
  {
   "cell_type": "code",
   "execution_count": null,
   "metadata": {
    "pycharm": {
     "is_executing": true
    },
    "tags": []
   },
   "outputs": [],
   "source": [
    "# Collect Investor sentiment Data from Quandl\n",
    "\n",
    "aaii = get_quandl_data('AAII/AAII_SENTIMENT')\n",
    "inv_sentiment = aaii[['Bullish', 'Bearish', 'Bullish 8-Week Mov Avg', 'Bull-Bear Spread']]\n",
    "inv_sentiment.rename(columns={'Bullish 8-Week Mov Avg':'Bull_MA_8wk'}, inplace=True)\n",
    "inv_sentiment['Bear_MA_8wk'] = inv_sentiment['Bearish'].rolling(window=8).mean()\n",
    "inv_sentiment.tail()"
   ]
  },
  {
   "cell_type": "code",
   "execution_count": null,
   "metadata": {
    "pycharm": {
     "is_executing": true
    },
    "tags": []
   },
   "outputs": [],
   "source": [
    "# Upsample the data to Daily from Weekly\n",
    "\n",
    "upsampled = inv_sentiment.resample('D')\n",
    "df_inv_sentiment = upsampled.interpolate(method='linear')\n",
    "df_inv_sentiment.tail()"
   ]
  },
  {
   "cell_type": "code",
   "execution_count": null,
   "metadata": {
    "pycharm": {
     "is_executing": true
    }
   },
   "outputs": [],
   "source": [
    "# EIA Data\n",
    "\n",
    "eia_id = \"STEO.BREPUUS.M\" # Brent Crude oil prices monthly\n",
    "eia_url\n"
   ]
  },
  {
   "cell_type": "markdown",
   "metadata": {},
   "source": [
    "## Data Organization"
   ]
  },
  {
   "cell_type": "markdown",
   "metadata": {},
   "source": [
    "### Create Date Table"
   ]
  },
  {
   "cell_type": "code",
   "execution_count": null,
   "metadata": {
    "pycharm": {
     "is_executing": true
    }
   },
   "outputs": [],
   "source": [
    "# Create Calendar Table\n",
    "df_dates = create_date_table()\n",
    "df_dates.set_index('Date', inplace = True)\n",
    "df_dates.tail()"
   ]
  },
  {
   "cell_type": "markdown",
   "metadata": {},
   "source": [
    "### Preprocessing"
   ]
  },
  {
   "cell_type": "markdown",
   "metadata": {},
   "source": [
    "<p><strong>Relevant Dataframes:</strong></p>\n",
    "<ul style=\"line-height:180%\">\n",
    "    <li>BTC Data: df_btc_data</li>\n",
    "    <li>Altcoin Data: df_altcoin_poloniex_data</li>\n",
    "    <li>Fin Assets Data: df_asset_data</li>\n",
    "    <li>Mining Data: df_mining_data</li>\n",
    "    <li>Exchanges Data: df_cg_exchanges</li>\n",
    "    <li>Markets Data: df_cg_markets</li>\n",
    "    <li>Coingecko BTC Price Data: df_cg_btc_data</li>\n",
    "    <li>Yahoo BTC Price Data: df_yahoo_btc_data</li>\n",
    "    <li>Date Table: df_dates</li>\n",
    "</ul>"
   ]
  },
  {
   "cell_type": "code",
   "execution_count": null,
   "metadata": {
    "pycharm": {
     "is_executing": true
    }
   },
   "outputs": [],
   "source": [
    "# Create copies of the imported data that is being transformed\n",
    "\n",
    "df_btc = df_btc_data.copy()\n",
    "df_altcoin = df_altcoin_poloniex_data.copy()\n",
    "df_fin_asset = df_asset_data.copy()\n",
    "df_mining = df_mining_data.copy()\n",
    "df_exchanges = df_cg_exchanges.copy()\n",
    "df_markets = df_cg_markets.copy()\n",
    "\n",
    "\n",
    "# Create dictionary of the copied dataframes\n",
    "data_frames = {\n",
    "    'BTC Data': df_btc,\n",
    "    'Altcoin Data': df_altcoin,\n",
    "    'Fin Assets Data': df_fin_asset,\n",
    "    'Mining Data': df_mining,\n",
    "    'Exchanges Data': df_exchanges,\n",
    "    'Markets Data': df_markets,\n",
    "    'Date Table': df_dates\n",
    "}\n",
    "\n",
    "# Organize the Dataframe column names into a dictionary\n",
    "data_frames_col_names = {}\n",
    "for df_name, df in data_frames.items():\n",
    "    data_frames_col_names[df_name] = df.columns\n",
    "data_frames_col_names"
   ]
  },
  {
   "cell_type": "code",
   "execution_count": null,
   "metadata": {
    "pycharm": {
     "is_executing": true
    },
    "tags": []
   },
   "outputs": [],
   "source": [
    "# Add the Fin Assets Exchange Data to Exchange List \n",
    "\n",
    "exchanges_list_cg = pd.unique(df_exchanges['Id'].str.upper())\n",
    "exchanges_list_cg= np.append(exchanges_list_cg, ['YAHOO'])\n",
    "exchanges_list_cg.sort()\n",
    "exchanges_list_cg\n",
    "\n",
    "print(f\"{exchanges_list_cg}\")"
   ]
  },
  {
   "cell_type": "code",
   "execution_count": null,
   "metadata": {
    "pycharm": {
     "is_executing": true
    },
    "tags": []
   },
   "outputs": [],
   "source": [
    "# Add the Fin Assets Market data to Market List\n",
    "\n",
    "markets_list_cg = pd.unique(df_markets['Symbol'].str.upper())\n",
    "add_markets = np.unique(df_fin_asset['Symbol'])\n",
    "markets_list_cg = np.append(markets_list_cg, add_markets)\n",
    "markets_list_cg.sort()\n",
    "markets_list_cg\n",
    "\n",
    "print(f\"{markets_list_cg}\")"
   ]
  },
  {
   "cell_type": "code",
   "execution_count": null,
   "metadata": {
    "pycharm": {
     "is_executing": true
    },
    "tags": []
   },
   "outputs": [],
   "source": [
    "# Create ID Columns for Exchanges\n",
    "\n",
    "exchange_mapping = {}\n",
    "for exchange_id, exchange_value in enumerate(exchanges_list_cg):\n",
    "    exchange_mapping.update({exchange_value:exchange_id+1})\n",
    "    \n",
    "value_mapper(df_exchanges, 'Id', 'ExchangeID', exchange_mapping)\n",
    "df_exchanges[['Id', 'Name', 'ExchangeID']].sort_values(by='Name').tail()"
   ]
  },
  {
   "cell_type": "code",
   "execution_count": null,
   "metadata": {
    "pycharm": {
     "is_executing": true
    }
   },
   "outputs": [],
   "source": [
    "# Create ID Columns for Markets\n",
    "\n",
    "market_mapping = {}\n",
    "for market_id, market_value in enumerate(markets_list_cg):\n",
    "    market_mapping.update({market_value:market_id+1})\n",
    "\n",
    "value_mapper(df_markets, 'Symbol', 'MarketID', market_mapping)\n",
    "df_markets[['Id', 'Symbol', 'MarketID']].sort_values(by='Id').tail()"
   ]
  },
  {
   "cell_type": "code",
   "execution_count": null,
   "metadata": {
    "pycharm": {
     "is_executing": true
    },
    "tags": []
   },
   "outputs": [],
   "source": [
    "# Map the Exchange and Market IDs to the BTC, Altcoin and Fin Asset Data\n",
    "\n",
    "value_mapper(df_btc, 'Exchange', 'ExchangeID', exchange_mapping)\n",
    "value_mapper(df_btc, 'Market', 'MarketID', market_mapping)\n",
    "\n",
    "value_mapper(df_altcoin, 'Exchange', 'ExchangeID', exchange_mapping)\n",
    "value_mapper(df_altcoin, 'Market', 'MarketID', market_mapping)\n",
    "\n",
    "value_mapper(df_fin_asset, 'Source', 'ExchangeID', exchange_mapping)\n",
    "value_mapper(df_fin_asset, 'Symbol', 'MarketID', market_mapping)\n",
    "\n",
    "value_mapper(df_mining, 'Market', 'MarketID', market_mapping)\n",
    "\n",
    "print(df_btc.head())\n",
    "print(df_altcoin.head())\n",
    "print(df_fin_asset.head())\n",
    "print(df_mining.head())"
   ]
  },
  {
   "cell_type": "markdown",
   "metadata": {},
   "source": [
    "##### Create Mapping for subsetting the Data as a preparation to load into the DB"
   ]
  },
  {
   "cell_type": "code",
   "execution_count": 1,
   "metadata": {
    "pycharm": {
     "is_executing": true
    },
    "tags": []
   },
   "outputs": [],
   "source": [
    "data_frames_col_translate = {\n",
    "    'BTC Data': [\n",
    "        {\n",
    "            'Open': 'Open', \n",
    "            'High': 'High', \n",
    "            'Low': 'Low', \n",
    "            'Close': 'Close', \n",
    "            'Volume_BTC': 'Volume_BTC', \n",
    "            'Volume_USD': 'Volume_USD',\n",
    "            'Weighted Price': 'WeightedPrice', \n",
    "            'MarketID': 'MarketID',\n",
    "            'ExchangeID': 'ExchangeID', \n",
    "            'Date': 'Date'\n",
    "        }],\n",
    "    'Altcoin Data': [\n",
    "        {\n",
    "            'Open': 'Open', \n",
    "            'High': 'High', \n",
    "            'Low': 'Low', \n",
    "            'Close': 'Close', \n",
    "            'Volume_BTC': 'Volume_BTC',\n",
    "            'Volume_Market': 'Volume_Market', \n",
    "            'Weighted Price': 'WeightedPrice', \n",
    "            'MarketID': 'MarketID',\n",
    "            'ExchangeID': 'ExchangeID', \n",
    "            'Date': 'Date'\n",
    "        }],\n",
    "    'Fin Assets Data': [\n",
    "        {\n",
    "            'Open': 'Open', \n",
    "            'High': 'High', \n",
    "            'Low': 'Low', \n",
    "            'Close': 'Close', \n",
    "            'Adj Close': 'AdjClose', \n",
    "            'Volume': 'Volume', \n",
    "            'Asset': 'Asset',\n",
    "            'Symbol': 'Symbol',\n",
    "            'Source': 'Source',\n",
    "            'MarketID': 'MarketID',\n",
    "            'ExchangeID': 'ExchangeID',\n",
    "            'Date': 'Date'\n",
    "        }],\n",
    "    'Mining Data': [\n",
    "        {\n",
    "            'Total BTC': 'Total_BTC', \n",
    "            'Market Cap': 'MarketCap', \n",
    "            'Transactions last 24h': 'TR_24h',\n",
    "            'Transactions avg. per hour': 'TR_Avg_h', \n",
    "            'Bitcoins sent last 24h': 'BTC_Sent_24h',\n",
    "            'Bitcoins sent avg. per hour': 'BTC_Sent_Avg_h', \n",
    "            'Count': 'BTC_Count', \n",
    "            'Blocks last 24h': 'Blocks_24h',\n",
    "            'Blocks avg. per hour': 'Blocks_Avg_h', \n",
    "            'Difficulty': 'Difficulty', \n",
    "            'Next Difficulty': 'Next_Difficulty',\n",
    "            'Network Hashrate Terahashs': 'Hashrate_Tera', \n",
    "            'Network Hashrate PetaFLOPS': 'Hashrate_Peta',\n",
    "            'MarketID': 'MarketID',\n",
    "            'Date': 'Date'\n",
    "        }],\n",
    "    'Exchanges Data': [\n",
    "        {\n",
    "            'ExchangeID': 'ExchangeID', \n",
    "            'Id': 'Exchange',\n",
    "            'Name': 'ExchangeName', \n",
    "            'Year_Established': 'Year_Est', \n",
    "            'Country': 'Country', \n",
    "            'Has_Trading_Incentive': 'Trading_Inc',\n",
    "            'Trust_Score': 'Trust_Score',\n",
    "            'Trust_Score_rank': 'Rank_Trust',\n",
    "            'Trade_Volume_24h_Btc': 'Trade_Vol_24h',\n",
    "            'Trade_Volume_24h_Btc_Normalized': 'Norm_Trade_Vol'\n",
    "        }],\n",
    "    'Markets Data': [\n",
    "        {\n",
    "            'MarketID': 'MarketID',\n",
    "            'Name': 'Market',\n",
    "            'Symbol': 'Symbol',\n",
    "            'Id': 'MarketName',\n",
    "            'Market_Cap': 'MarketCap',\n",
    "            'Market_Cap_Rank': 'Rank_MarketCap',\n",
    "            'Total_Volume': 'Total_Volume',\n",
    "            'Total_Supply': 'Total_Supply',\n",
    "            'Max_Supply': 'Max_Supply'\n",
    "        }],\n",
    "    'Date Table': [\n",
    "        {\n",
    "            'Date': 'Date', \n",
    "            'Week_day': 'Week_day', \n",
    "            'Day': 'Day', \n",
    "            'Month': 'Month', \n",
    "            'Week': 'Week', \n",
    "            'Quarter': 'Quarter',\n",
    "            'Year': 'Year'\n",
    "        }]\n",
    "}"
   ]
  },
  {
   "cell_type": "code",
   "execution_count": 2,
   "metadata": {},
   "outputs": [],
   "source": [
    "columns_mapped = [i for i in data_frames_col_translate['BTC Data'][0]]"
   ]
  },
  {
   "cell_type": "code",
   "execution_count": 5,
   "metadata": {},
   "outputs": [
    {
     "data": {
      "text/plain": [
       "{'Open': 'Open',\n",
       " 'High': 'High',\n",
       " 'Low': 'Low',\n",
       " 'Close': 'Close',\n",
       " 'Volume_BTC': 'Volume_BTC',\n",
       " 'Volume_USD': 'Volume_USD',\n",
       " 'Weighted Price': 'WeightedPrice',\n",
       " 'MarketID': 'MarketID',\n",
       " 'ExchangeID': 'ExchangeID',\n",
       " 'Date': 'Date'}"
      ]
     },
     "execution_count": 5,
     "metadata": {},
     "output_type": "execute_result"
    }
   ],
   "source": [
    "data_frames_col_translate['BTC Data'][0]"
   ]
  },
  {
   "cell_type": "markdown",
   "metadata": {},
   "source": [
    "### Preprocessed Data"
   ]
  },
  {
   "cell_type": "code",
   "execution_count": null,
   "metadata": {
    "pycharm": {
     "is_executing": true
    }
   },
   "outputs": [],
   "source": [
    "# Preprocess Data for SQL DB load\n",
    "\n",
    "df_btc_prep = sql_preprocess(df_btc, 'BTC Data', data_frames_col_translate)\n",
    "df_altcoin_prep = sql_preprocess(df_altcoin, 'Altcoin Data', data_frames_col_translate)\n",
    "df_fin_asset_prep = sql_preprocess(df_fin_asset, 'Fin Assets Data', data_frames_col_translate)\n",
    "df_mining_prep = sql_preprocess(df_mining, 'Mining Data', data_frames_col_translate)\n",
    "df_exchanges_prep = sql_preprocess(df_exchanges, 'Exchanges Data', data_frames_col_translate)\n",
    "df_markets_prep = sql_preprocess(df_markets, 'Markets Data', data_frames_col_translate)\n",
    "df_dates_prep = sql_preprocess(df_dates, 'Date Table', data_frames_col_translate)\n",
    "\n",
    "# Additional manual preprocessing\n",
    "\n",
    "df_markets_prep = df_markets_prep.drop('Date', axis=1)\n",
    "df_exchanges_prep = df_exchanges_prep.drop('Date', axis=1)\n",
    "df_exchanges_prep['Trading_Inc'] = df_exchanges_prep['Trading_Inc'].replace({True: 1, False: 0})\n"
   ]
  },
  {
   "cell_type": "code",
   "execution_count": null,
   "metadata": {
    "pycharm": {
     "is_executing": true
    }
   },
   "outputs": [],
   "source": [
    "df_exchanges_prep"
   ]
  },
  {
   "cell_type": "code",
   "execution_count": null,
   "metadata": {
    "pycharm": {
     "is_executing": true
    }
   },
   "outputs": [],
   "source": [
    "# Saving the data into csv Files for external DB load\n",
    "\n",
    "df_btc_prep.to_csv('btc_dataset_for_DB.csv')\n",
    "df_altcoin_prep.to_csv('altcoin_dataset_for_DB.csv')\n",
    "df_fin_asset_prep.to_csv('fin_assets_dataset_for_DB.csv')\n",
    "df_mining_prep.to_csv('mining_dataset_for_DB.csv')\n",
    "df_exchanges_prep.to_csv('exchanges_dataset_for_DB.csv')\n",
    "df_markets_prep.to_csv('markets_dataset_for_DB.csv')\n",
    "df_dates_prep.to_csv('date_table_for_DB.csv')"
   ]
  },
  {
   "cell_type": "markdown",
   "metadata": {},
   "source": [
    "### Create DB and load data"
   ]
  },
  {
   "cell_type": "code",
   "execution_count": null,
   "metadata": {
    "pycharm": {
     "is_executing": true
    },
    "tags": []
   },
   "outputs": [],
   "source": [
    "engine = db.create_engine('sqlite:///crypto.db', echo=True)\n",
    "meta = db.MetaData(engine)\n",
    "\n",
    "with engine.connect() as con:\n",
    "    con.execute('DROP TABLE IF EXISTS BTC_Data;')\n",
    "    con.execute('DROP TABLE IF EXISTS Altcoin_Data;')\n",
    "    con.execute('DROP TABLE IF EXISTS Fin_Assets_Data;')\n",
    "    con.execute('DROP TABLE IF EXISTS Mining_Data;')\n",
    "    con.execute('DROP TABLE IF EXISTS Markets;')\n",
    "    con.execute('DROP TABLE IF EXISTS Exchanges;')\n",
    "    con.execute('DROP TABLE IF EXISTS Dates_Table;')\n",
    "    con.close()\n",
    "        "
   ]
  },
  {
   "cell_type": "code",
   "execution_count": null,
   "metadata": {
    "pycharm": {
     "is_executing": true
    },
    "tags": []
   },
   "outputs": [],
   "source": [
    "engine = db.create_engine('sqlite:///crypto.db', echo=True)\n",
    "meta = db.MetaData(engine)\n",
    "\n",
    "with engine.connect() as con:\n",
    "    con.execute('''\n",
    "        CREATE TABLE IF NOT EXISTS BTC_Data\n",
    "              (\n",
    "                ID INT PRIMARY KEY,\n",
    "                Open REAL NULL DEFAULT 0,\n",
    "                High REAL NULL DEFAULT 0,\n",
    "                Low REAL NULL DEFAULT 0,\n",
    "                Close REAL NULL DEFAULT 0,\n",
    "                WeightedPrice REAL NULL DEFAULT 0,\n",
    "                Volume_USD REAL NULL DEFAULT 0,\n",
    "                Volume_BTC REAL NULL DEFAULT 0,\n",
    "                Currency VARCHAR(5) NULL DEFAULT \"USD\",\n",
    "                MarketID INT NOT NULL,\n",
    "                ExchangeID INT NOT NULL,\n",
    "                Date DATE NOT NULL,\n",
    "                FOREIGN KEY(MarketID) REFERENCES Markets(MarketID) ON DELETE CASCADE,\n",
    "                FOREIGN KEY(ExchangeID) REFERENCES Exchanges(ExchangeID) ON DELETE CASCADE,\n",
    "                FOREIGN KEY(Date) REFERENCES Dates_Table(Date) ON DELETE CASCADE\n",
    "                          \n",
    "              );''')\n"
   ]
  },
  {
   "cell_type": "code",
   "execution_count": null,
   "metadata": {
    "pycharm": {
     "is_executing": true
    },
    "tags": []
   },
   "outputs": [],
   "source": [
    "engine = db.create_engine('sqlite:///crypto.db', echo=True)\n",
    "meta = db.MetaData(engine)\n",
    "\n",
    "with engine.connect() as con:\n",
    "    con.execute('''\n",
    "        CREATE TABLE IF NOT EXISTS Altcoin_Data\n",
    "              (\n",
    "                ID INT PRIMARY KEY,\n",
    "                Open REAL NULL DEFAULT 0,\n",
    "                High REAL NULL DEFAULT 0,\n",
    "                Low REAL NULL DEFAULT 0,\n",
    "                Close REAL NULL DEFAULT 0,\n",
    "                WeightedPrice REAL NULL DEFAULT 0,\n",
    "                Volume_Market REAL NULL DEFAULT 0,\n",
    "                Volume_BTC REAL NULL DEFAULT 0,\n",
    "                MarketID INT NOT NULL,\n",
    "                ExchangeID INT NOT NULL,\n",
    "                Date DATE NOT NULL,\n",
    "                FOREIGN KEY(MarketID) REFERENCES Markets(MarketID) ON DELETE CASCADE,\n",
    "                FOREIGN KEY(ExchangeID) REFERENCES Exchanges(ExchangeID) ON DELETE CASCADE,\n",
    "                FOREIGN KEY(Date) REFERENCES Dates_Table(Date) ON DELETE CASCADE\n",
    "                          \n",
    "              ); ''')\n",
    "    con.close()"
   ]
  },
  {
   "cell_type": "code",
   "execution_count": null,
   "metadata": {
    "pycharm": {
     "is_executing": true
    },
    "tags": []
   },
   "outputs": [],
   "source": [
    "engine = db.create_engine('sqlite:///crypto.db', echo=True)\n",
    "meta = db.MetaData(engine)\n",
    "\n",
    "with engine.connect() as con:\n",
    "    con.execute('''\n",
    "        CREATE TABLE IF NOT EXISTS Fin_Assets_Data\n",
    "              (\n",
    "                ID INT PRIMARY KEY,\n",
    "                Open REAL NULL DEFAULT 0,\n",
    "                High REAL NULL DEFAULT 0,\n",
    "                Low REAL NULL DEFAULT 0,\n",
    "                Close REAL NULL DEFAULT 0,\n",
    "                AdjClose REAL NULL DEFAULT 0,\n",
    "                Volume REAL NULL DEFAULT 0,\n",
    "                Asset VARCHAR(50) NULL,\n",
    "                Symbol VARCHAR(10) NULL,\n",
    "                Source VARCHAR(10) NULL,\n",
    "                MarketID INT NOT NULL,\n",
    "                ExchangeID INT NOT NULL,\n",
    "                Date DATE NOT NULL,\n",
    "                FOREIGN KEY(MarketID) REFERENCES Markets(MarketID) ON DELETE CASCADE,\n",
    "                FOREIGN KEY(ExchangeID) REFERENCES Exchanges(ExchangeID) ON DELETE CASCADE,\n",
    "                FOREIGN KEY(Date) REFERENCES Dates_Table(Date) ON DELETE CASCADE\n",
    "                          \n",
    "              ); ''')\n",
    "    con.close()"
   ]
  },
  {
   "cell_type": "code",
   "execution_count": null,
   "metadata": {
    "pycharm": {
     "is_executing": true
    },
    "tags": []
   },
   "outputs": [],
   "source": [
    "engine = db.create_engine('sqlite:///crypto.db', echo=True)\n",
    "meta = db.MetaData(engine)\n",
    "\n",
    "with engine.connect() as con:\n",
    "    con.execute('''\n",
    "        CREATE TABLE IF NOT EXISTS Mining_Data\n",
    "              (\n",
    "                ID INT PRIMARY KEY,\n",
    "                Total_BTC INT NULL DEFAULT 0,\n",
    "                MarketCap INT NULL DEFAULT 0,\n",
    "                TR_24h REAL NULL DEFAULT 0,\n",
    "                TR_Avg_h REAL NULL DEFAULT 0,\n",
    "                BTC_Sent_24h REAL NULL DEFAULT 0,\n",
    "                BTC_Sent_Avg_h REAL NULL DEFAULT 0,\n",
    "                BTC_Count INT NULL DEFAULT 0,\n",
    "                Blocks_24h INT NULL DEFAULT 0,\n",
    "                Blocks_Avg_h REAL NULL DEFAULT 0,\n",
    "                Difficulty INT NULL DEFAULT 0,\n",
    "                Next_Difficulty INT NULL DEFAULT 0,\n",
    "                Hashrate_Tera REAL NULL DEFAULT 0,\n",
    "                Hashrate_Peta REAL NULL DEFAULT 0,\n",
    "                MarketID INT NOT NULL,\n",
    "                Date DATE NOT NULL,\n",
    "                FOREIGN KEY(MarketID) REFERENCES Markets(MarketID) ON DELETE CASCADE,\n",
    "                FOREIGN KEY(Date) REFERENCES Dates_Table(Date) ON DELETE CASCADE\n",
    "                          \n",
    "              ); ''')\n",
    "    con.close()"
   ]
  },
  {
   "cell_type": "code",
   "execution_count": null,
   "metadata": {
    "pycharm": {
     "is_executing": true
    },
    "tags": []
   },
   "outputs": [],
   "source": [
    "engine = db.create_engine('sqlite:///crypto.db', echo=True)\n",
    "meta = db.MetaData(engine)\n",
    "\n",
    "with engine.connect() as con:\n",
    "    con.execute('''\n",
    "        CREATE TABLE IF NOT EXISTS Markets\n",
    "              (\n",
    "                MarketID INT PRIMARY KEY,\n",
    "                Market VARCHAR(50) NOT NULL,\n",
    "                Symbol VARCHAR(10) NOT NULL,\n",
    "                MarketName VARCHAR(50) NULL,\n",
    "                MarketCap INT NULL DEFAULT 0,\n",
    "                Rank_MarketCap INT NOT NULL,\n",
    "                Total_Volume INT NULL DEFAULT 0,\n",
    "                Total_Supply INT NULL DEFAULT 0,\n",
    "                Max_Supply INT NULL DEFAULT 0\n",
    "                          \n",
    "              ); ''')\n",
    "    con.close()"
   ]
  },
  {
   "cell_type": "code",
   "execution_count": null,
   "metadata": {
    "pycharm": {
     "is_executing": true
    },
    "tags": []
   },
   "outputs": [],
   "source": [
    "engine = db.create_engine('sqlite:///crypto.db', echo=True)\n",
    "meta = db.MetaData(engine)\n",
    "\n",
    "with engine.connect() as con:\n",
    "    con.execute('''\n",
    "        CREATE TABLE IF NOT EXISTS Exchanges\n",
    "              (\n",
    "                ExchangeID INT PRIMARY KEY,\n",
    "                Exchange VARCHAR(50) NOT NULL,\n",
    "                ExchangeName VARCHAR(50) NULL,\n",
    "                Year_Est REAL NULL,\n",
    "                Country VARCHAR(50) NULL,\n",
    "                Trading_Inc REAL NULL,\n",
    "                Trust_Score INT NOT NULL,\n",
    "                Rank_Trust INT NOT NULL,\n",
    "                Trade_Vol_24h REAL NULL DEFAULT 0,\n",
    "                Norm_Trade_Vol REAL NULL DEFAULT 0\n",
    "                          \n",
    "              ); ''')\n",
    "    con.close()"
   ]
  },
  {
   "cell_type": "code",
   "execution_count": null,
   "metadata": {
    "pycharm": {
     "is_executing": true
    },
    "tags": []
   },
   "outputs": [],
   "source": [
    "engine = db.create_engine('sqlite:///crypto.db', echo=True)\n",
    "meta = db.MetaData(engine)\n",
    "\n",
    "with engine.connect() as con:\n",
    "    con.execute('''\n",
    "        CREATE TABLE IF NOT EXISTS Dates_Table\n",
    "              (\n",
    "                Date DATE PRIMARY KEY,\n",
    "                Week_day VARCHAR(50) NOT NULL,\n",
    "                Day INT NOT NULL,\n",
    "                Month INT NOT NULL,\n",
    "                Week INT NOT NULL,\n",
    "                Quarter INT NOT NULL,\n",
    "                Year INT NOT NULL\n",
    "                          \n",
    "              ); ''')\n",
    "    con.close()"
   ]
  },
  {
   "cell_type": "code",
   "execution_count": null,
   "metadata": {
    "pycharm": {
     "is_executing": true
    }
   },
   "outputs": [],
   "source": [
    "inspector = db.inspect(engine)\n",
    "table_names = inspector.get_table_names()\n",
    "table_names"
   ]
  },
  {
   "cell_type": "code",
   "execution_count": null,
   "metadata": {
    "pycharm": {
     "is_executing": true
    },
    "tags": []
   },
   "outputs": [],
   "source": [
    "for table in table_names:\n",
    "    load_to_sql(table)"
   ]
  },
  {
   "cell_type": "code",
   "execution_count": null,
   "metadata": {
    "pycharm": {
     "is_executing": true
    }
   },
   "outputs": [],
   "source": [
    "engine = db.create_engine('sqlite:///crypto.db', echo=True)\n",
    "\n",
    "with engine.connect() as con:\n",
    "    df_sql = pd.read_sql_query(\"\"\"\n",
    "    SELECT * \n",
    "    FROM BTC_DATA;\n",
    "        \"\"\", con)\n",
    "    con.close()"
   ]
  },
  {
   "cell_type": "code",
   "execution_count": null,
   "metadata": {
    "pycharm": {
     "is_executing": true
    },
    "tags": []
   },
   "outputs": [],
   "source": [
    "df_sql"
   ]
  },
  {
   "cell_type": "markdown",
   "metadata": {},
   "source": [
    "## Data Wrangling"
   ]
  },
  {
   "cell_type": "markdown",
   "metadata": {},
   "source": [
    "### BTC Dataset Preparation using Pandas"
   ]
  },
  {
   "cell_type": "code",
   "execution_count": null,
   "metadata": {
    "pycharm": {
     "is_executing": true
    }
   },
   "outputs": [],
   "source": [
    "btc_data_prepared = df_btc_prep.merge(df_exchanges_prep[['Exchange', 'ExchangeID']], how='left', \n",
    "                                      left_on='ExchangeID', right_on='ExchangeID').drop(columns=['ExchangeID'])\n",
    "btc_data_prepared['Exchange'] = btc_data_prepared['Exchange'].str.upper()\n",
    "btc_data_prepared['Month'] = btc_data_prepared['Date'].dt.month_name()\n",
    "btc_data_prepared['Year'] = btc_data_prepared['Date'].dt.year\n",
    "btc_data_prepared = btc_data_prepared[['Date', 'WeightedPrice', 'Volume_BTC', 'Exchange', 'Year', 'Month']]\n",
    "btc_data_prepared.tail()"
   ]
  },
  {
   "cell_type": "code",
   "execution_count": null,
   "metadata": {
    "pycharm": {
     "is_executing": true
    }
   },
   "outputs": [],
   "source": [
    "btc_data_prepared.isna().sum()"
   ]
  },
  {
   "cell_type": "code",
   "execution_count": null,
   "metadata": {
    "pycharm": {
     "is_executing": true
    }
   },
   "outputs": [],
   "source": [
    "btc_data_prepared.loc[(btc_data_prepared==0).any(axis=1)]"
   ]
  },
  {
   "cell_type": "code",
   "execution_count": null,
   "metadata": {
    "pycharm": {
     "is_executing": true
    }
   },
   "outputs": [],
   "source": [
    "btc_data_prepared = btc_data_prepared.replace(0, np.nan)"
   ]
  },
  {
   "cell_type": "code",
   "execution_count": null,
   "metadata": {
    "pycharm": {
     "is_executing": true
    }
   },
   "outputs": [],
   "source": [
    "btc_data_prepared.isna().sum()"
   ]
  },
  {
   "cell_type": "code",
   "execution_count": null,
   "metadata": {
    "pycharm": {
     "is_executing": true
    }
   },
   "outputs": [],
   "source": [
    "btc_data_prepared[(btc_data_prepared['Date'].dt.year==2014) & (btc_data_prepared['Exchange']=='KRAKEN') \n",
    "                  & (btc_data_prepared.index.to_series().between(211, 240))]"
   ]
  },
  {
   "cell_type": "code",
   "execution_count": null,
   "metadata": {
    "pycharm": {
     "is_executing": true
    }
   },
   "outputs": [],
   "source": [
    "btc_data_prepared['WeightedPrice_filled'] = btc_data_prepared.groupby(['Exchange', 'Year', 'Month'])['WeightedPrice'].transform(\n",
    "    lambda grp: grp.fillna(np.mean(grp)))"
   ]
  },
  {
   "cell_type": "code",
   "execution_count": null,
   "metadata": {
    "pycharm": {
     "is_executing": true
    }
   },
   "outputs": [],
   "source": [
    "btc_data_prepared['Volume_filled'] = btc_data_prepared.groupby(['Exchange', 'Year', 'Month'])['Volume_BTC'].transform(\n",
    "    lambda grp: grp.fillna(np.mean(grp)))"
   ]
  },
  {
   "cell_type": "code",
   "execution_count": null,
   "metadata": {
    "pycharm": {
     "is_executing": true
    }
   },
   "outputs": [],
   "source": [
    "btc_data_prepared[(btc_data_prepared['Date'].dt.year==2014) & (btc_data_prepared['Exchange']=='KRAKEN') \n",
    "                  & (btc_data_prepared.index.to_series().between(211, 240))]"
   ]
  },
  {
   "cell_type": "code",
   "execution_count": null,
   "metadata": {
    "pycharm": {
     "is_executing": true
    }
   },
   "outputs": [],
   "source": [
    "btc_data_prepared"
   ]
  },
  {
   "cell_type": "code",
   "execution_count": null,
   "metadata": {
    "pycharm": {
     "is_executing": true
    }
   },
   "outputs": [],
   "source": [
    "btc_data_prepared = btc_data_prepared.groupby(['Date'], as_index=False).agg({'WeightedPrice_filled':'mean', 'Volume_filled': 'sum'})"
   ]
  },
  {
   "cell_type": "code",
   "execution_count": null,
   "metadata": {
    "pycharm": {
     "is_executing": true
    }
   },
   "outputs": [],
   "source": [
    "btc_data_prepared[btc_data_prepared['Date']=='2021-03-31']"
   ]
  },
  {
   "cell_type": "code",
   "execution_count": null,
   "metadata": {
    "pycharm": {
     "is_executing": true
    }
   },
   "outputs": [],
   "source": [
    "btc_data_prepared.isna().sum()"
   ]
  },
  {
   "cell_type": "code",
   "execution_count": null,
   "metadata": {
    "pycharm": {
     "is_executing": true
    }
   },
   "outputs": [],
   "source": [
    "# Simple 30-Day Moving Average\n",
    "\n",
    "btc_data_prepared['SMA_30'] = btc_data_prepared.loc[:,'WeightedPrice_filled'].rolling(window=30).mean().fillna(method='bfill')"
   ]
  },
  {
   "cell_type": "code",
   "execution_count": null,
   "metadata": {
    "pycharm": {
     "is_executing": true
    }
   },
   "outputs": [],
   "source": [
    "# Exponential Moving Average\n",
    "\n",
    "btc_data_prepared['EMA'] = btc_data_prepared.loc[:,'WeightedPrice_filled'].ewm(span=40, adjust=False).mean()"
   ]
  },
  {
   "cell_type": "code",
   "execution_count": null,
   "metadata": {
    "pycharm": {
     "is_executing": true
    }
   },
   "outputs": [],
   "source": [
    "btc_data_prepared.set_index('Date', inplace=True)"
   ]
  },
  {
   "cell_type": "code",
   "execution_count": null,
   "metadata": {
    "pycharm": {
     "is_executing": true
    }
   },
   "outputs": [],
   "source": [
    "btc_data_prepared"
   ]
  },
  {
   "cell_type": "code",
   "execution_count": null,
   "metadata": {
    "pycharm": {
     "is_executing": true
    }
   },
   "outputs": [],
   "source": [
    "fig = go.Figure()\n",
    "\n",
    "date = btc_data_prepared.index\n",
    "price = btc_data_prepared['WeightedPrice_filled']\n",
    "volume = btc_data_prepared['Volume_filled']\n",
    "ma = btc_data_prepared['SMA_30']\n",
    "ema = btc_data_prepared['EMA']\n",
    "\n",
    "\n",
    "fig = make_subplots(rows=2, cols=1, shared_xaxes=True,\n",
    "                   vertical_spacing=0.1, subplot_titles=('BTC Price USD', '# BTC Volume'),\n",
    "                   row_width=[0.5, 1])\n",
    "\n",
    "fig.add_trace(go.Scatter(x=date, y=price,\n",
    "                    mode='lines',\n",
    "                    name='BTC Weighted Price'), row=1, col=1)\n",
    "\n",
    "fig.add_trace(go.Scatter(x=date, y=ma,\n",
    "                    mode='lines',\n",
    "                    name='BTC 30-Day Moving Avg'), row=1, col=1)\n",
    "\n",
    "fig.add_trace(go.Scatter(x=date, y=ema,\n",
    "                    mode='lines',\n",
    "                    name='BTC Exp Weighted Avg'), row=1, col=1)\n",
    "\n",
    "fig.add_trace(go.Bar(x=date, y=volume,\n",
    "                     name='Volume',\n",
    "                     opacity=0.2,\n",
    "                     marker=dict(\n",
    "                         line=dict(color='firebrick', width=2)\n",
    "                     )), row=2, col=1)\n",
    "\n",
    "fig.update_annotations(font_size=12)\n",
    "\n",
    "title = \"BTC Price development\"\n",
    "                              \n",
    "fig.update_layout(title=title,\n",
    "                  dragmode='select',\n",
    "                  width=1000,\n",
    "                  height=600,\n",
    "                  hovermode='closest',\n",
    "                  yaxis_type='log'\n",
    "                 )\n",
    "\n",
    "\n",
    "fig.show()"
   ]
  },
  {
   "cell_type": "code",
   "execution_count": null,
   "metadata": {
    "pycharm": {
     "is_executing": true
    },
    "tags": []
   },
   "outputs": [],
   "source": [
    "btc_data_prepared.info()"
   ]
  },
  {
   "cell_type": "code",
   "execution_count": null,
   "metadata": {
    "pycharm": {
     "is_executing": true
    }
   },
   "outputs": [],
   "source": [
    "btc_data_prepared"
   ]
  },
  {
   "cell_type": "code",
   "execution_count": null,
   "metadata": {
    "pycharm": {
     "is_executing": true
    }
   },
   "outputs": [],
   "source": [
    "df_altcoin_prep.info()"
   ]
  },
  {
   "cell_type": "code",
   "execution_count": null,
   "metadata": {
    "pycharm": {
     "is_executing": true
    }
   },
   "outputs": [],
   "source": [
    "df_fin_asset_prep.info()"
   ]
  },
  {
   "cell_type": "code",
   "execution_count": null,
   "metadata": {
    "pycharm": {
     "is_executing": true
    }
   },
   "outputs": [],
   "source": [
    "altcoin_data_prepared = df_altcoin_prep.merge(df_markets_prep[['Symbol', 'MarketID']], how='left', \n",
    "                                      left_on='MarketID', right_on='MarketID').drop(columns=['MarketID'])\n",
    "altcoin_data_prepared['Symbol'] = altcoin_data_prepared['Symbol'].str.upper()\n",
    "altcoin_data_prepared['Month'] = altcoin_data_prepared['Date'].dt.month_name()\n",
    "altcoin_data_prepared['Year'] = altcoin_data_prepared['Date'].dt.year\n",
    "altcoin_data_prepared_copy = altcoin_data_prepared.copy()\n",
    "altcoin_data_prepared = altcoin_data_prepared[['Date', 'WeightedPrice', 'Symbol', 'Year', 'Month']]\n",
    "altcoin_data_prepared.tail()"
   ]
  },
  {
   "cell_type": "code",
   "execution_count": null,
   "metadata": {
    "pycharm": {
     "is_executing": true
    }
   },
   "outputs": [],
   "source": [
    "altcoin_data_prepared.isna().sum()"
   ]
  },
  {
   "cell_type": "code",
   "execution_count": null,
   "metadata": {
    "pycharm": {
     "is_executing": true
    }
   },
   "outputs": [],
   "source": [
    "altcoin_data_prepared.loc[(altcoin_data_prepared==0).any(axis=1)]"
   ]
  },
  {
   "cell_type": "code",
   "execution_count": null,
   "metadata": {
    "pycharm": {
     "is_executing": true
    }
   },
   "outputs": [],
   "source": [
    "altcoin_data_prepared[altcoin_data_prepared['Symbol']=='ETH']"
   ]
  },
  {
   "cell_type": "code",
   "execution_count": null,
   "metadata": {
    "pycharm": {
     "is_executing": true
    }
   },
   "outputs": [],
   "source": [
    "altcoin_data_grouped = altcoin_data_prepared.groupby(['Date'], as_index=False).agg({'WeightedPrice':'mean'})"
   ]
  },
  {
   "cell_type": "code",
   "execution_count": null,
   "metadata": {
    "pycharm": {
     "is_executing": true
    }
   },
   "outputs": [],
   "source": [
    "altcoin_data_grouped.set_index('Date', inplace=True)"
   ]
  },
  {
   "cell_type": "code",
   "execution_count": null,
   "metadata": {
    "pycharm": {
     "is_executing": true
    }
   },
   "outputs": [],
   "source": [
    "altcoin_data_grouped = altcoin_data_grouped.merge(btc_data_prepared['WeightedPrice_filled'], how='left',\n",
    "                                                   left_index=True, right_index=True)"
   ]
  },
  {
   "cell_type": "code",
   "execution_count": null,
   "metadata": {
    "pycharm": {
     "is_executing": true
    }
   },
   "outputs": [],
   "source": [
    "altcoin_data_grouped['WeightedPrice_USD'] = altcoin_data_grouped['WeightedPrice'] * altcoin_data_grouped['WeightedPrice_filled']"
   ]
  },
  {
   "cell_type": "code",
   "execution_count": null,
   "metadata": {
    "pycharm": {
     "is_executing": true
    }
   },
   "outputs": [],
   "source": [
    "altcoin_data_grouped"
   ]
  },
  {
   "cell_type": "code",
   "execution_count": null,
   "metadata": {
    "pycharm": {
     "is_executing": true
    }
   },
   "outputs": [],
   "source": [
    "altcoin_data_grouped.drop(columns=['WeightedPrice', 'WeightedPrice_filled'], inplace=True)"
   ]
  },
  {
   "cell_type": "code",
   "execution_count": null,
   "metadata": {
    "pycharm": {
     "is_executing": true
    }
   },
   "outputs": [],
   "source": [
    "# Exponential Moving Average\n",
    "\n",
    "altcoin_data_grouped['Altcoin_EMA'] = altcoin_data_grouped.loc[:,'WeightedPrice_USD'].ewm(span=40, adjust=False).mean()"
   ]
  },
  {
   "cell_type": "code",
   "execution_count": null,
   "metadata": {
    "pycharm": {
     "is_executing": true
    }
   },
   "outputs": [],
   "source": [
    "altcoin_data_grouped"
   ]
  },
  {
   "cell_type": "code",
   "execution_count": null,
   "metadata": {
    "pycharm": {
     "is_executing": true
    }
   },
   "outputs": [],
   "source": [
    "btc_altcoin_merged = btc_data_prepared.merge(altcoin_data_grouped['Altcoin_EMA'], how='left', left_index=True, right_index=True)"
   ]
  },
  {
   "cell_type": "code",
   "execution_count": null,
   "metadata": {
    "pycharm": {
     "is_executing": true
    }
   },
   "outputs": [],
   "source": [
    "btc_altcoin_merged.isna().sum()"
   ]
  },
  {
   "cell_type": "code",
   "execution_count": null,
   "metadata": {
    "pycharm": {
     "is_executing": true
    }
   },
   "outputs": [],
   "source": [
    "btc_altcoin_merged[btc_altcoin_merged['Altcoin_EMA'].isna()]"
   ]
  },
  {
   "cell_type": "code",
   "execution_count": null,
   "metadata": {
    "pycharm": {
     "is_executing": true
    }
   },
   "outputs": [],
   "source": [
    "btc_altcoin_merged['Altcoin_EMA_filled'] = btc_altcoin_merged['Altcoin_EMA'].fillna(\n",
    "    value=btc_altcoin_merged['Altcoin_EMA'].rolling(window=30, center=True, min_periods=2).mean())"
   ]
  },
  {
   "cell_type": "code",
   "execution_count": null,
   "metadata": {
    "pycharm": {
     "is_executing": true
    }
   },
   "outputs": [],
   "source": [
    "btc_altcoin_merged.isna().sum()"
   ]
  },
  {
   "cell_type": "code",
   "execution_count": null,
   "metadata": {
    "pycharm": {
     "is_executing": true
    }
   },
   "outputs": [],
   "source": [
    "btc_altcoin_merged.head(850)"
   ]
  },
  {
   "cell_type": "code",
   "execution_count": null,
   "metadata": {
    "pycharm": {
     "is_executing": true
    }
   },
   "outputs": [],
   "source": [
    "btc_altcoin_prepared = btc_altcoin_merged[btc_altcoin_merged.index>='2014-01-05']"
   ]
  },
  {
   "cell_type": "code",
   "execution_count": null,
   "metadata": {
    "pycharm": {
     "is_executing": true
    }
   },
   "outputs": [],
   "source": [
    "btc_altcoin_prepared.drop('Altcoin_EMA', axis=1, inplace=True)"
   ]
  },
  {
   "cell_type": "code",
   "execution_count": null,
   "metadata": {
    "pycharm": {
     "is_executing": true
    }
   },
   "outputs": [],
   "source": [
    "btc_altcoin_prepared.rename(columns={'WeightedPrice_filled': 'WeightedPrice', 'Volume_filled': 'Volume', \n",
    "                                     'EMA': 'EMA_40', 'Altcoin_EMA_filled': 'Altcoin_EMA_40'}, inplace=True)"
   ]
  },
  {
   "cell_type": "code",
   "execution_count": null,
   "metadata": {
    "pycharm": {
     "is_executing": true
    }
   },
   "outputs": [],
   "source": [
    "btc_altcoin_prepared.isna().sum()"
   ]
  },
  {
   "cell_type": "code",
   "execution_count": null,
   "metadata": {
    "pycharm": {
     "is_executing": true
    },
    "tags": []
   },
   "outputs": [],
   "source": [
    "btc_altcoin_prepared"
   ]
  },
  {
   "cell_type": "code",
   "execution_count": null,
   "metadata": {
    "pycharm": {
     "is_executing": true
    }
   },
   "outputs": [],
   "source": [
    "altcoin_data_prepared.tail()"
   ]
  },
  {
   "cell_type": "code",
   "execution_count": null,
   "metadata": {
    "pycharm": {
     "is_executing": true
    }
   },
   "outputs": [],
   "source": [
    "altcoin_data_prepared.info()"
   ]
  },
  {
   "cell_type": "code",
   "execution_count": null,
   "metadata": {
    "pycharm": {
     "is_executing": true
    }
   },
   "outputs": [],
   "source": [
    "altcoin_data_prepared.loc[(altcoin_data_prepared==0).any(axis=1)].count()"
   ]
  },
  {
   "cell_type": "code",
   "execution_count": null,
   "metadata": {
    "pycharm": {
     "is_executing": true
    }
   },
   "outputs": [],
   "source": [
    "altcoin_data_prepared_copy.tail()"
   ]
  },
  {
   "cell_type": "code",
   "execution_count": null,
   "metadata": {
    "pycharm": {
     "is_executing": true
    }
   },
   "outputs": [],
   "source": [
    "altcoin_data_prepared_copy.info()"
   ]
  },
  {
   "cell_type": "code",
   "execution_count": null,
   "metadata": {
    "pycharm": {
     "is_executing": true
    }
   },
   "outputs": [],
   "source": [
    "altcoin_for_top10 = altcoin_data_prepared.merge(altcoin_data_prepared_copy[['Date', 'Symbol', 'Volume_BTC']], left_on=['Date', 'Symbol'], right_on=['Date', 'Symbol'])"
   ]
  },
  {
   "cell_type": "code",
   "execution_count": null,
   "metadata": {
    "pycharm": {
     "is_executing": true
    }
   },
   "outputs": [],
   "source": [
    "altcoin_for_top10"
   ]
  },
  {
   "cell_type": "code",
   "execution_count": null,
   "metadata": {
    "pycharm": {
     "is_executing": true
    }
   },
   "outputs": [],
   "source": [
    "top10_altcoin = pd.DataFrame(altcoin_for_top10.groupby('Symbol')['Volume_BTC'].sum().nlargest(10))"
   ]
  },
  {
   "cell_type": "code",
   "execution_count": null,
   "metadata": {
    "pycharm": {
     "is_executing": true
    }
   },
   "outputs": [],
   "source": [
    "top10 = top10_altcoin.reset_index()['Symbol']"
   ]
  },
  {
   "cell_type": "code",
   "execution_count": null,
   "metadata": {
    "pycharm": {
     "is_executing": true
    }
   },
   "outputs": [],
   "source": [
    "top10"
   ]
  },
  {
   "cell_type": "code",
   "execution_count": null,
   "metadata": {
    "pycharm": {
     "is_executing": true
    }
   },
   "outputs": [],
   "source": [
    "altcoin_data_to_merge = altcoin_data_prepared.loc[altcoin_data_prepared['Symbol'].isin(top10)]"
   ]
  },
  {
   "cell_type": "code",
   "execution_count": null,
   "metadata": {
    "pycharm": {
     "is_executing": true
    }
   },
   "outputs": [],
   "source": [
    "altcoin_data_to_merge.set_index('Date', inplace=True)"
   ]
  },
  {
   "cell_type": "code",
   "execution_count": null,
   "metadata": {
    "pycharm": {
     "is_executing": true
    }
   },
   "outputs": [],
   "source": [
    "altcoin_data_to_merge"
   ]
  },
  {
   "cell_type": "code",
   "execution_count": null,
   "metadata": {
    "pycharm": {
     "is_executing": true
    }
   },
   "outputs": [],
   "source": [
    "altcoin_data_to_merge = altcoin_data_to_merge.merge(btc_data_prepared['WeightedPrice_filled'], how='left', left_index=True, right_index=True)"
   ]
  },
  {
   "cell_type": "code",
   "execution_count": null,
   "metadata": {
    "pycharm": {
     "is_executing": true
    }
   },
   "outputs": [],
   "source": [
    "altcoin_data_to_merge"
   ]
  },
  {
   "cell_type": "code",
   "execution_count": null,
   "metadata": {
    "pycharm": {
     "is_executing": true
    }
   },
   "outputs": [],
   "source": [
    "altcoin_data_to_merge['WeightedPrice_USD'] = altcoin_data_to_merge['WeightedPrice'] * altcoin_data_to_merge['WeightedPrice_filled']"
   ]
  },
  {
   "cell_type": "code",
   "execution_count": null,
   "metadata": {
    "pycharm": {
     "is_executing": true
    }
   },
   "outputs": [],
   "source": [
    "altcoin_data_to_pivot = altcoin_data_to_merge[['WeightedPrice_USD', 'Symbol']]"
   ]
  },
  {
   "cell_type": "code",
   "execution_count": null,
   "metadata": {
    "pycharm": {
     "is_executing": true
    }
   },
   "outputs": [],
   "source": [
    "altcoin_data_to_pivot"
   ]
  },
  {
   "cell_type": "code",
   "execution_count": null,
   "metadata": {
    "pycharm": {
     "is_executing": true
    }
   },
   "outputs": [],
   "source": [
    "altcoin_data_to_pivot.isna().sum()"
   ]
  },
  {
   "cell_type": "code",
   "execution_count": null,
   "metadata": {
    "pycharm": {
     "is_executing": true
    }
   },
   "outputs": [],
   "source": [
    "altcoin_data_pivoted = altcoin_data_to_pivot.pivot_table('WeightedPrice_USD', ['Date'], 'Symbol')"
   ]
  },
  {
   "cell_type": "code",
   "execution_count": null,
   "metadata": {
    "pycharm": {
     "is_executing": true
    }
   },
   "outputs": [],
   "source": [
    "altcoin_data_pivoted"
   ]
  },
  {
   "cell_type": "code",
   "execution_count": null,
   "metadata": {
    "pycharm": {
     "is_executing": true
    }
   },
   "outputs": [],
   "source": [
    "altcoin_data_pivoted['Year'] = altcoin_data_pivoted.index.year\n",
    "altcoin_data_pivoted['Month'] = altcoin_data_pivoted.index.month_name()\n",
    "altcoin_data_pivoted"
   ]
  },
  {
   "cell_type": "code",
   "execution_count": null,
   "metadata": {
    "pycharm": {
     "is_executing": true
    }
   },
   "outputs": [],
   "source": [
    "altcoin_data_pivoted.isna().sum()"
   ]
  },
  {
   "cell_type": "code",
   "execution_count": null,
   "metadata": {
    "pycharm": {
     "is_executing": true
    }
   },
   "outputs": [],
   "source": [
    "for col in altcoin_data_pivoted.columns[:10]:\n",
    "    print(str(col))"
   ]
  },
  {
   "cell_type": "code",
   "execution_count": null,
   "metadata": {
    "pycharm": {
     "is_executing": true
    }
   },
   "outputs": [],
   "source": [
    "altcoin_data_pivoted.groupby(['Year', 'Month'])['DASH'].mean()"
   ]
  },
  {
   "cell_type": "code",
   "execution_count": null,
   "metadata": {
    "pycharm": {
     "is_executing": true
    }
   },
   "outputs": [],
   "source": [
    "altcoin_data_pivoted.iloc[0]['DASH']"
   ]
  },
  {
   "cell_type": "code",
   "execution_count": null,
   "metadata": {
    "pycharm": {
     "is_executing": true
    }
   },
   "outputs": [],
   "source": [
    "list(set(altcoin_data_pivoted['Year']))"
   ]
  },
  {
   "cell_type": "code",
   "execution_count": null,
   "metadata": {
    "pycharm": {
     "is_executing": true
    }
   },
   "outputs": [],
   "source": [
    "# Fill the NaN with the mean price per year & month\n",
    "\n",
    "years = list(set(altcoin_data_pivoted['Year']))\n",
    "months = list(set(altcoin_data_pivoted['Month']))\n",
    "\n",
    "for year in years:\n",
    "    for month in months:\n",
    "        for col in altcoin_data_pivoted.columns[:10]:\n",
    "            altcoin_data_pivoted[col].fillna(altcoin_data_pivoted[col][(altcoin_data_pivoted['Year']==year) & (altcoin_data_pivoted['Month']==month)].mean(), inplace=True)"
   ]
  },
  {
   "cell_type": "code",
   "execution_count": null,
   "metadata": {
    "pycharm": {
     "is_executing": true
    }
   },
   "outputs": [],
   "source": [
    "altcoin_data_pivoted"
   ]
  },
  {
   "cell_type": "code",
   "execution_count": null,
   "metadata": {
    "pycharm": {
     "is_executing": true
    }
   },
   "outputs": [],
   "source": [
    "altcoin_data_pivoted.isna().sum()"
   ]
  },
  {
   "cell_type": "code",
   "execution_count": null,
   "metadata": {
    "pycharm": {
     "is_executing": true
    }
   },
   "outputs": [],
   "source": [
    "btc_dataset_merged = btc_altcoin_prepared.merge(altcoin_data_pivoted, how='left', left_index=True, right_index=True)"
   ]
  },
  {
   "cell_type": "code",
   "execution_count": null,
   "metadata": {
    "pycharm": {
     "is_executing": true
    }
   },
   "outputs": [],
   "source": [
    "btc_altcoin_dataset_final = btc_dataset_merged.drop(['Year', 'Month'], axis=1)\n",
    "btc_altcoin_dataset_final['Day_of_Week'] = btc_altcoin_dataset_final.index.day_name()"
   ]
  },
  {
   "cell_type": "code",
   "execution_count": null,
   "metadata": {
    "pycharm": {
     "is_executing": true
    }
   },
   "outputs": [],
   "source": [
    "btc_altcoin_dataset_final"
   ]
  },
  {
   "cell_type": "code",
   "execution_count": null,
   "metadata": {
    "pycharm": {
     "is_executing": true
    }
   },
   "outputs": [],
   "source": [
    "btc_altcoin_dataset_final.isna().sum()"
   ]
  },
  {
   "cell_type": "code",
   "execution_count": null,
   "metadata": {
    "pycharm": {
     "is_executing": true
    }
   },
   "outputs": [],
   "source": [
    "btc_altcoin_dataset_final.loc[(btc_altcoin_dataset_final==0).any(axis=1)]"
   ]
  },
  {
   "cell_type": "code",
   "execution_count": null,
   "metadata": {
    "pycharm": {
     "is_executing": true
    }
   },
   "outputs": [],
   "source": [
    "btc_altcoin_dataset_cleansed = btc_altcoin_dataset_final.dropna()"
   ]
  },
  {
   "cell_type": "code",
   "execution_count": null,
   "metadata": {
    "pycharm": {
     "is_executing": true
    }
   },
   "outputs": [],
   "source": [
    "btc_altcoin_dataset_cleansed.isna().sum()"
   ]
  },
  {
   "cell_type": "code",
   "execution_count": null,
   "metadata": {
    "pycharm": {
     "is_executing": true
    }
   },
   "outputs": [],
   "source": [
    "btc_altcoin_dataset_cleansed.tail()"
   ]
  },
  {
   "cell_type": "code",
   "execution_count": null,
   "metadata": {
    "pycharm": {
     "is_executing": true
    }
   },
   "outputs": [],
   "source": [
    "btc_altcoin_dataset_cleansed.to_csv('btc_altcoin_dataset_cleansed.csv')"
   ]
  },
  {
   "cell_type": "code",
   "execution_count": null,
   "metadata": {
    "pycharm": {
     "is_executing": true
    }
   },
   "outputs": [],
   "source": [
    "df_check = pd.read_csv('btc_altcoin_dataset_cleansed.csv')\n",
    "df_check.tail()"
   ]
  },
  {
   "cell_type": "markdown",
   "metadata": {},
   "source": [
    "## EDA on the prepared dataset"
   ]
  },
  {
   "cell_type": "markdown",
   "metadata": {},
   "source": [
    "### Pairplots"
   ]
  },
  {
   "cell_type": "raw",
   "metadata": {
    "pycharm": {
     "is_executing": true
    },
    "tags": []
   },
   "source": [
    "fig = go.Figure()\n",
    "\n",
    "fig = go.Figure(data=go.Splom(\n",
    "                  dimensions=[dict(label='WeightedPrice', values=btc_altcoin_dataset_cleansed['WeightedPrice']),\n",
    "                              dict(label='Volume', values=btc_altcoin_dataset_cleansed['Volume']),\n",
    "                              dict(label='MovingAverage', values=btc_altcoin_dataset_cleansed['SMA_30']),\n",
    "                              dict(label='ExpMovingAvg', values=btc_altcoin_dataset_cleansed['EMA_40']),\n",
    "                              dict(label='AltcoinExpMovingAvg', values=btc_altcoin_dataset_cleansed['Altcoin_EMA_40']),\n",
    "                              dict(label='DASH', values=btc_altcoin_dataset_cleansed['DASH']),\n",
    "                              dict(label='DOGE', values=btc_altcoin_dataset_cleansed['DOGE']),\n",
    "                              dict(label='ETC', values=btc_altcoin_dataset_cleansed['ETC']),\n",
    "                              dict(label='ETH', values=btc_altcoin_dataset_cleansed['ETH']),\n",
    "                              dict(label='LTC', values=btc_altcoin_dataset_cleansed['LTC']),\n",
    "                              dict(label='SC', values=btc_altcoin_dataset_cleansed['SC']),\n",
    "                              dict(label='XEM', values=btc_altcoin_dataset_cleansed['XEM']),\n",
    "                              dict(label='XMR', values=btc_altcoin_dataset_cleansed['XMR']),\n",
    "                              dict(label='XRP', values=btc_altcoin_dataset_cleansed['XRP']),\n",
    "                              dict(label='ZEC', values=btc_altcoin_dataset_cleansed['ZEC']),\n",
    "                              dict(label='Weekday', values=btc_altcoin_dataset_cleansed['Day_of_Week'])\n",
    "                             ],\n",
    "                              \n",
    "                  marker=dict(size=5,\n",
    "                              colorscale='Bluered',\n",
    "                              line=dict(width=0.5,\n",
    "                                        color='rgb(230,230,230)')),\n",
    "                  diagonal=dict(visible=False)))\n",
    "\n",
    "title = \"Scatterplot Matrix for BTC Data\"\n",
    "                              \n",
    "fig.update_layout(title=title,\n",
    "                  dragmode='select',\n",
    "                  width=1000,\n",
    "                  height=1000,\n",
    "                  hovermode='closest')\n",
    "\n",
    "fig.update_traces(showlowerhalf=False)\n",
    "\n",
    "fig.show()"
   ]
  },
  {
   "cell_type": "code",
   "execution_count": null,
   "metadata": {
    "pycharm": {
     "is_executing": true
    }
   },
   "outputs": [],
   "source": [
    "sns.pairplot(btc_altcoin_dataset_cleansed, diag_kind='kde', corner=True)"
   ]
  },
  {
   "cell_type": "markdown",
   "metadata": {},
   "source": [
    "### Hypothesis Testing"
   ]
  },
  {
   "cell_type": "code",
   "execution_count": null,
   "metadata": {
    "pycharm": {
     "is_executing": true
    }
   },
   "outputs": [],
   "source": [
    "btc_altcoin_OLS = btc_altcoin_prepared[['WeightedPrice', 'Altcoin_EMA_40']].reset_index().drop('Date', axis=1)"
   ]
  },
  {
   "cell_type": "code",
   "execution_count": null,
   "metadata": {
    "pycharm": {
     "is_executing": true
    }
   },
   "outputs": [],
   "source": [
    "btc_altcoin_OLS"
   ]
  },
  {
   "cell_type": "code",
   "execution_count": null,
   "metadata": {
    "pycharm": {
     "is_executing": true
    }
   },
   "outputs": [],
   "source": [
    "btc_altcoin_OLS.describe()"
   ]
  },
  {
   "cell_type": "code",
   "execution_count": null,
   "metadata": {
    "pycharm": {
     "is_executing": true
    },
    "tags": []
   },
   "outputs": [],
   "source": [
    "btc_altcoin_OLS_pc = btc_altcoin_OLS.pct_change()"
   ]
  },
  {
   "cell_type": "code",
   "execution_count": null,
   "metadata": {
    "pycharm": {
     "is_executing": true
    }
   },
   "outputs": [],
   "source": [
    "np.isfinite(btc_altcoin_OLS_pc)"
   ]
  },
  {
   "cell_type": "code",
   "execution_count": null,
   "metadata": {
    "pycharm": {
     "is_executing": true
    }
   },
   "outputs": [],
   "source": [
    "btc_altcoin_OLS_pc.isna().sum()"
   ]
  },
  {
   "cell_type": "code",
   "execution_count": null,
   "metadata": {
    "pycharm": {
     "is_executing": true
    }
   },
   "outputs": [],
   "source": [
    "btc_altcoin_OLS_pc.dropna(inplace=True)"
   ]
  },
  {
   "cell_type": "code",
   "execution_count": null,
   "metadata": {
    "pycharm": {
     "is_executing": true
    },
    "tags": []
   },
   "outputs": [],
   "source": [
    "qqplot(btc_altcoin_OLS_pc['WeightedPrice'], line='s')\n",
    "plt.show()"
   ]
  },
  {
   "cell_type": "code",
   "execution_count": null,
   "metadata": {
    "pycharm": {
     "is_executing": true
    },
    "tags": []
   },
   "outputs": [],
   "source": [
    "X_train, X_test, y_train, y_test = train_test_split(btc_altcoin_OLS_pc['Altcoin_EMA_40'],\n",
    "                                                    btc_altcoin_OLS_pc['WeightedPrice'],\n",
    "                                                    test_size=0.2, random_state=12)"
   ]
  },
  {
   "cell_type": "code",
   "execution_count": null,
   "metadata": {
    "pycharm": {
     "is_executing": true
    },
    "tags": []
   },
   "outputs": [],
   "source": [
    "X = btc_altcoin_OLS['Altcoin_EMA_40']\n",
    "X = sm.add_constant(X)\n",
    "Y = btc_altcoin_OLS['WeightedPrice']"
   ]
  },
  {
   "cell_type": "code",
   "execution_count": null,
   "metadata": {
    "pycharm": {
     "is_executing": true
    },
    "tags": []
   },
   "outputs": [],
   "source": [
    "model = sm.OLS(Y, X).fit()\n",
    "predictions = model.predict(X)"
   ]
  },
  {
   "cell_type": "code",
   "execution_count": null,
   "metadata": {
    "pycharm": {
     "is_executing": true
    },
    "tags": []
   },
   "outputs": [],
   "source": [
    "print_model = model.summary()\n",
    "print(print_model)"
   ]
  },
  {
   "cell_type": "markdown",
   "metadata": {},
   "source": [
    "#### Interpretation"
   ]
  },
  {
   "cell_type": "markdown",
   "metadata": {},
   "source": [
    "<ul>\n",
    "    <li>Adj R-square: good model fit</li>\n",
    "    <li>Constant: Independent Average price of BTC over 7 Years</li>\n",
    "    <li>Std error: high level of accuracy</li>\n",
    "    <li>p-value: Model is statistically significant</li>\n",
    "    <li>Durbin-Watson test: a positive autocorrelation is present, eg a EMA of the Altcoins yesterday is indicating a greater likelihood in BTC price increase in the future</li>\n",
    "    \n",
    "    \n",
    "</ul>"
   ]
  },
  {
   "cell_type": "code",
   "execution_count": null,
   "metadata": {
    "pycharm": {
     "is_executing": true
    },
    "tags": []
   },
   "outputs": [],
   "source": []
  }
 ],
 "metadata": {
  "kernelspec": {
   "display_name": "PyCharm (crypto_project)",
   "language": "python",
   "name": "pycharm-14c6ff91"
  },
  "language_info": {
   "codemirror_mode": {
    "name": "ipython",
    "version": 3
   },
   "file_extension": ".py",
   "mimetype": "text/x-python",
   "name": "python",
   "nbconvert_exporter": "python",
   "pygments_lexer": "ipython3",
   "version": "3.8.8"
  }
 },
 "nbformat": 4,
 "nbformat_minor": 4
}
